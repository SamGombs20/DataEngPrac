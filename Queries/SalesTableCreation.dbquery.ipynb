{
 "cells": [
  {
   "cell_type": "code",
   "execution_count": 0,
   "metadata": {
    "application/vnd.databricks.v1+cell": {
     "cellMetadata": {
      "byteLimit": 10485760,
      "rowLimit": 1000
     },
     "inputWidgets": {},
     "nuid": "a853f9d4-68d1-479b-802f-d16c41dc6962",
     "showTitle": false,
     "tableResultSettingsMap": {},
     "title": ""
    }
   },
   "outputs": [
    {
     "output_type": "display_data",
     "data": {
      "text/html": [
       "<style scoped>\n",
       "  .table-result-container {\n",
       "    max-height: 300px;\n",
       "    overflow: auto;\n",
       "  }\n",
       "  table, th, td {\n",
       "    border: 1px solid black;\n",
       "    border-collapse: collapse;\n",
       "  }\n",
       "  th, td {\n",
       "    padding: 5px;\n",
       "  }\n",
       "  th {\n",
       "    text-align: left;\n",
       "  }\n",
       "</style><div class='table-result-container'><table class='table-result'><thead style='background-color: white'><tr><th>OrderID</th><th>PoductID</th><th>CustomerID</th><th>Quantity</th><th>Price</th></tr></thead><tbody></tbody></table></div>"
      ]
     },
     "metadata": {
      "application/vnd.databricks.v1+output": {
       "addedWidgets": {},
       "aggData": [],
       "aggError": "",
       "aggOverflow": false,
       "aggSchema": [],
       "aggSeriesLimitReached": false,
       "aggType": "",
       "arguments": {},
       "columnCustomDisplayInfos": {},
       "data": [],
       "datasetInfos": [],
       "dbfsResultPath": null,
       "isJsonSchema": true,
       "metadata": {},
       "overflow": false,
       "plotOptions": {
        "customPlotOptions": {},
        "displayType": "table",
        "pivotAggregation": null,
        "pivotColumns": null,
        "xColumns": null,
        "yColumns": null
       },
       "removedWidgets": [],
       "schema": [
        {
         "metadata": "{}",
         "name": "OrderID",
         "type": "\"string\"",
         "typeName": "STRING",
         "typeText": "STRING"
        },
        {
         "metadata": "{}",
         "name": "PoductID",
         "type": "\"string\"",
         "typeName": "STRING",
         "typeText": "STRING"
        },
        {
         "metadata": "{}",
         "name": "CustomerID",
         "type": "\"string\"",
         "typeName": "STRING",
         "typeText": "STRING"
        },
        {
         "metadata": "{}",
         "name": "Quantity",
         "type": "\"integer\"",
         "typeName": "INT",
         "typeText": "INT"
        },
        {
         "metadata": "{}",
         "name": "Price",
         "type": "\"integer\"",
         "typeName": "INT",
         "typeText": "INT"
        }
       ],
       "type": "table"
      }
     },
     "output_type": "display_data"
    }
   ],
   "source": [
    "-- CREATE TABLE SalesData(\n",
    "--   OrderID STRING PRIMARY KEY,\n",
    "--   PoductID STRING,\n",
    "--   CustomerID STRING,\n",
    "--   Quantity INT,\n",
    "--   Price INT\n",
    "-- );\n",
    "SELECT * FROM SalesData;"
   ]
  }
 ],
 "metadata": {
  "application/vnd.databricks.v1+notebook": {
   "computePreferences": null,
   "dashboards": [],
   "environmentMetadata": null,
   "inputWidgetPreferences": null,
   "language": "sql",
   "notebookMetadata": {
    "pythonIndentUnit": 4,
    "sqlQueryOptions": {
     "applyAutoLimit": true,
     "catalog": "workspace",
     "schema": "default"
    }
   },
   "notebookName": "SalesTableCreation.dbquery.ipynb",
   "widgets": {}
  },
  "language_info": {
   "name": "sql"
  }
 },
 "nbformat": 4,
 "nbformat_minor": 0
}
