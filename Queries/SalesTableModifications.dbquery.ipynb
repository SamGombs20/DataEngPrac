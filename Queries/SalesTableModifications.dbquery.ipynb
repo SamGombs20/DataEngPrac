{
 "cells": [
  {
   "cell_type": "code",
   "execution_count": 0,
   "metadata": {
    "application/vnd.databricks.v1+cell": {
     "cellMetadata": {
      "byteLimit": 10485760,
      "rowLimit": 1000
     },
     "inputWidgets": {},
     "nuid": "bee1b57f-dfc2-4eb5-aad6-db1e0121ad94",
     "showTitle": false,
     "tableResultSettingsMap": {},
     "title": ""
    }
   },
   "outputs": [
    {
     "output_type": "display_data",
     "data": {
      "text/html": [
       "<style scoped>\n",
       "  .table-result-container {\n",
       "    max-height: 300px;\n",
       "    overflow: auto;\n",
       "  }\n",
       "  table, th, td {\n",
       "    border: 1px solid black;\n",
       "    border-collapse: collapse;\n",
       "  }\n",
       "  th, td {\n",
       "    padding: 5px;\n",
       "  }\n",
       "  th {\n",
       "    text-align: left;\n",
       "  }\n",
       "</style><div class='table-result-container'><table class='table-result'><thead style='background-color: white'><tr><th>num_affected_rows</th></tr></thead><tbody><tr><td>1</td></tr></tbody></table></div>"
      ]
     },
     "metadata": {
      "application/vnd.databricks.v1+output": {
       "addedWidgets": {},
       "aggData": [],
       "aggError": "",
       "aggOverflow": false,
       "aggSchema": [],
       "aggSeriesLimitReached": false,
       "aggType": "",
       "arguments": {},
       "columnCustomDisplayInfos": {},
       "data": [
        [
         1
        ]
       ],
       "datasetInfos": [],
       "dbfsResultPath": null,
       "isJsonSchema": true,
       "metadata": {},
       "overflow": false,
       "plotOptions": {
        "customPlotOptions": {},
        "displayType": "table",
        "pivotAggregation": null,
        "pivotColumns": null,
        "xColumns": null,
        "yColumns": null
       },
       "removedWidgets": [],
       "schema": [
        {
         "metadata": "{}",
         "name": "num_affected_rows",
         "type": "\"long\"",
         "typeName": "LONG",
         "typeText": "BIGINT"
        }
       ],
       "type": "table"
      }
     },
     "output_type": "display_data"
    },
    {
     "output_type": "display_data",
     "data": {
      "text/html": [
       "<style scoped>\n",
       "  .table-result-container {\n",
       "    max-height: 300px;\n",
       "    overflow: auto;\n",
       "  }\n",
       "  table, th, td {\n",
       "    border: 1px solid black;\n",
       "    border-collapse: collapse;\n",
       "  }\n",
       "  th, td {\n",
       "    padding: 5px;\n",
       "  }\n",
       "  th {\n",
       "    text-align: left;\n",
       "  }\n",
       "</style><div class='table-result-container'><table class='table-result'><thead style='background-color: white'><tr><th>OrderID</th><th>PoductID</th><th>CustomerID</th><th>Quantity</th><th>Price</th><th>Discount</th><th>OrderDate</th><th>Delivery</th></tr></thead><tbody><tr><td>1</td><td>erp</td><td>2</td><td>4</td><td>3000</td><td>20.2</td><td>2022-01-01</td><td>Express</td></tr></tbody></table></div>"
      ]
     },
     "metadata": {
      "application/vnd.databricks.v1+output": {
       "addedWidgets": {},
       "aggData": [],
       "aggError": "",
       "aggOverflow": false,
       "aggSchema": [],
       "aggSeriesLimitReached": false,
       "aggType": "",
       "arguments": {},
       "columnCustomDisplayInfos": {},
       "data": [
        [
         "1",
         "erp",
         "2",
         4,
         3000,
         20.2,
         "2022-01-01",
         "Express"
        ]
       ],
       "datasetInfos": [],
       "dbfsResultPath": null,
       "isJsonSchema": true,
       "metadata": {},
       "overflow": false,
       "plotOptions": {
        "customPlotOptions": {},
        "displayType": "table",
        "pivotAggregation": null,
        "pivotColumns": null,
        "xColumns": null,
        "yColumns": null
       },
       "removedWidgets": [],
       "schema": [
        {
         "metadata": "{}",
         "name": "OrderID",
         "type": "\"string\"",
         "typeName": "STRING",
         "typeText": "STRING"
        },
        {
         "metadata": "{}",
         "name": "PoductID",
         "type": "\"string\"",
         "typeName": "STRING",
         "typeText": "STRING"
        },
        {
         "metadata": "{}",
         "name": "CustomerID",
         "type": "\"string\"",
         "typeName": "STRING",
         "typeText": "STRING"
        },
        {
         "metadata": "{}",
         "name": "Quantity",
         "type": "\"integer\"",
         "typeName": "INT",
         "typeText": "INT"
        },
        {
         "metadata": "{}",
         "name": "Price",
         "type": "\"integer\"",
         "typeName": "INT",
         "typeText": "INT"
        },
        {
         "metadata": "{}",
         "name": "Discount",
         "type": "\"double\"",
         "typeName": "DOUBLE",
         "typeText": "DOUBLE"
        },
        {
         "metadata": "{}",
         "name": "OrderDate",
         "type": "\"date\"",
         "typeName": "DATE",
         "typeText": "DATE"
        },
        {
         "metadata": "{}",
         "name": "Delivery",
         "type": "\"string\"",
         "typeName": "STRING",
         "typeText": "STRING"
        }
       ],
       "type": "table"
      }
     },
     "output_type": "display_data"
    }
   ],
   "source": [
    "-- ALTER TABLE salesdata ADD COLUMNS (Discount DOUBLE, OrderDate DATE);\n",
    "-- INSERT INTO salesdata (OrderID, PoductID, CustomerID, Quantity, Price, Discount, OrderDate)\n",
    "-- VALUES('1', 'erp', '2', 4, 3000, 20.20, '2022-01-01');\n",
    "-- ALTER TABLE salesdata ADD COLUMNS (Delivery STRING);\n",
    "UPDATE salesdata SET Delivery = 'Express' WHERE OrderID = '1';\n",
    "SELECT * FROM salesdata;\n"
   ]
  }
 ],
 "metadata": {
  "application/vnd.databricks.v1+notebook": {
   "computePreferences": null,
   "dashboards": [],
   "environmentMetadata": null,
   "inputWidgetPreferences": null,
   "language": "sql",
   "notebookMetadata": {
    "pythonIndentUnit": 4,
    "sqlQueryOptions": {
     "applyAutoLimit": true,
     "catalog": "workspace",
     "schema": "default"
    }
   },
   "notebookName": "SalesTableModifications.dbquery.ipynb",
   "widgets": {}
  },
  "language_info": {
   "name": "sql"
  }
 },
 "nbformat": 4,
 "nbformat_minor": 0
}
