{
 "cells": [
  {
   "cell_type": "code",
   "execution_count": 0,
   "metadata": {
    "application/vnd.databricks.v1+cell": {
     "cellMetadata": {
      "byteLimit": 2048000,
      "rowLimit": 10000
     },
     "inputWidgets": {},
     "nuid": "399a2d31-fc55-4d3d-8106-e0782aa84f66",
     "showTitle": false,
     "tableResultSettingsMap": {},
     "title": ""
    }
   },
   "outputs": [],
   "source": [
    "from pyspark.sql import SparkSession"
   ]
  },
  {
   "cell_type": "code",
   "execution_count": 0,
   "metadata": {
    "application/vnd.databricks.v1+cell": {
     "cellMetadata": {
      "byteLimit": 2048000,
      "rowLimit": 10000
     },
     "inputWidgets": {},
     "nuid": "72048c82-d316-4cb0-b3b0-9c51023377a4",
     "showTitle": false,
     "tableResultSettingsMap": {},
     "title": ""
    }
   },
   "outputs": [
    {
     "output_type": "display_data",
     "data": {
      "text/html": [
       "<style scoped>\n",
       "  .table-result-container {\n",
       "    max-height: 300px;\n",
       "    overflow: auto;\n",
       "  }\n",
       "  table, th, td {\n",
       "    border: 1px solid black;\n",
       "    border-collapse: collapse;\n",
       "  }\n",
       "  th, td {\n",
       "    padding: 5px;\n",
       "  }\n",
       "  th {\n",
       "    text-align: left;\n",
       "  }\n",
       "</style><div class='table-result-container'><table class='table-result'><thead style='background-color: white'><tr><th>account_number</th><th>amount</th><th>date</th><th>transaction_id</th></tr></thead><tbody><tr><td>A123</td><td>100</td><td>01/15/2023</td><td>1</td></tr><tr><td>A124</td><td>-50</td><td>16/01/2023</td><td>2</td></tr><tr><td>A125</td><td>200</td><td></td><td>3</td></tr><tr><td>A126</td><td>1000000</td><td>01/20/2023</td><td>4</td></tr><tr><td>XYZ123</td><td>150</td><td>02/01/2023</td><td>5</td></tr></tbody></table></div>"
      ]
     },
     "metadata": {
      "application/vnd.databricks.v1+output": {
       "addedWidgets": {},
       "aggData": [],
       "aggError": "",
       "aggOverflow": false,
       "aggSchema": [],
       "aggSeriesLimitReached": false,
       "aggType": "",
       "arguments": {},
       "columnCustomDisplayInfos": {},
       "data": [
        [
         "A123",
         100,
         "01/15/2023",
         1
        ],
        [
         "A124",
         -50,
         "16/01/2023",
         2
        ],
        [
         "A125",
         200,
         "",
         3
        ],
        [
         "A126",
         1000000,
         "01/20/2023",
         4
        ],
        [
         "XYZ123",
         150,
         "02/01/2023",
         5
        ]
       ],
       "datasetInfos": [],
       "dbfsResultPath": null,
       "isJsonSchema": true,
       "metadata": {},
       "overflow": false,
       "plotOptions": {
        "customPlotOptions": {},
        "displayType": "table",
        "pivotAggregation": null,
        "pivotColumns": null,
        "xColumns": null,
        "yColumns": null
       },
       "removedWidgets": [],
       "schema": [
        {
         "metadata": "{}",
         "name": "account_number",
         "type": "\"string\""
        },
        {
         "metadata": "{}",
         "name": "amount",
         "type": "\"long\""
        },
        {
         "metadata": "{}",
         "name": "date",
         "type": "\"string\""
        },
        {
         "metadata": "{}",
         "name": "transaction_id",
         "type": "\"long\""
        }
       ],
       "type": "table"
      }
     },
     "output_type": "display_data"
    }
   ],
   "source": [
    "# Create Spark session\n",
    "spark = SparkSession.builder.appName(\"DataValidation\").getOrCreate()\n",
    "# Sample data for the example\n",
    "data = [\n",
    "    {\"transaction_id\":1, \"date\":\"01/15/2023\",\"amount\":100,\"account_number\":\"A123\"},\n",
    "    {\"transaction_id\":2, \"date\":\"16/01/2023\",\"amount\":-50,\"account_number\":\"A124\"},\n",
    "    {\"transaction_id\":3, \"date\":\"\",\"amount\":200,\"account_number\":\"A125\"},\n",
    "    {\"transaction_id\":4, \"date\":\"01/20/2023\",\"amount\":1_000_000,\"account_number\":\"A126\"},\n",
    "    {\"transaction_id\":5, \"date\":\"02/01/2023\",\"amount\":150,\"account_number\":\"XYZ123\"}\n",
    "]\n",
    "df = spark.createDataFrame(data)\n",
    "df.display()\n"
   ]
  },
  {
   "cell_type": "code",
   "execution_count": 0,
   "metadata": {
    "application/vnd.databricks.v1+cell": {
     "cellMetadata": {
      "byteLimit": 2048000,
      "rowLimit": 10000
     },
     "inputWidgets": {},
     "nuid": "4ddd42b1-227d-4f94-b803-e90415513077",
     "showTitle": false,
     "tableResultSettingsMap": {},
     "title": ""
    }
   },
   "outputs": [
    {
     "output_type": "display_data",
     "data": {
      "text/html": [
       "<style scoped>\n",
       "  .table-result-container {\n",
       "    max-height: 300px;\n",
       "    overflow: auto;\n",
       "  }\n",
       "  table, th, td {\n",
       "    border: 1px solid black;\n",
       "    border-collapse: collapse;\n",
       "  }\n",
       "  th, td {\n",
       "    padding: 5px;\n",
       "  }\n",
       "  th {\n",
       "    text-align: left;\n",
       "  }\n",
       "</style><div class='table-result-container'><table class='table-result'><thead style='background-color: white'><tr><th>account_number</th><th>amount</th><th>date</th><th>transaction_id</th></tr></thead><tbody><tr><td>0</td><td>0</td><td>1</td><td>0</td></tr></tbody></table></div>"
      ]
     },
     "metadata": {
      "application/vnd.databricks.v1+output": {
       "addedWidgets": {},
       "aggData": [],
       "aggError": "",
       "aggOverflow": false,
       "aggSchema": [],
       "aggSeriesLimitReached": false,
       "aggType": "",
       "arguments": {},
       "columnCustomDisplayInfos": {},
       "data": [
        [
         0,
         0,
         1,
         0
        ]
       ],
       "datasetInfos": [],
       "dbfsResultPath": null,
       "isJsonSchema": true,
       "metadata": {},
       "overflow": false,
       "plotOptions": {
        "customPlotOptions": {},
        "displayType": "table",
        "pivotAggregation": null,
        "pivotColumns": null,
        "xColumns": null,
        "yColumns": null
       },
       "removedWidgets": [],
       "schema": [
        {
         "metadata": "{}",
         "name": "account_number",
         "type": "\"long\""
        },
        {
         "metadata": "{}",
         "name": "amount",
         "type": "\"long\""
        },
        {
         "metadata": "{}",
         "name": "date",
         "type": "\"long\""
        },
        {
         "metadata": "{}",
         "name": "transaction_id",
         "type": "\"long\""
        }
       ],
       "type": "table"
      }
     },
     "output_type": "display_data"
    }
   ],
   "source": [
    "from pyspark.sql.functions import col, count, when,regexp_replace\n",
    "# Count missing values for each column\n",
    "string_cols = [f.name for f in df.schema.fields if f.dataType.simpleString() == \"string\"]\n",
    "\n",
    "missing_values = df.select([\n",
    "    count(\n",
    "        when(\n",
    "            col(c).isNull() | \n",
    "            ((col(c) == \"\") if c in string_cols else False), \n",
    "            c\n",
    "        )\n",
    "    ).alias(c) for c in df.columns\n",
    "])\n",
    "\n",
    "display(missing_values)"
   ]
  }
 ],
 "metadata": {
  "application/vnd.databricks.v1+notebook": {
   "computePreferences": {
    "hardware": {
     "accelerator": null,
     "gpuPoolId": null,
     "memory": null
    }
   },
   "dashboards": [],
   "environmentMetadata": {
    "base_environment": "",
    "environment_version": "3"
   },
   "inputWidgetPreferences": null,
   "language": "python",
   "notebookMetadata": {
    "pythonIndentUnit": 4
   },
   "notebookName": "Data_quality_and_validation",
   "widgets": {}
  },
  "language_info": {
   "name": "python"
  }
 },
 "nbformat": 4,
 "nbformat_minor": 0
}
