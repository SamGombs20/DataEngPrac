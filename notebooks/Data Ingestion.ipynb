{
 "cells": [
  {
   "cell_type": "code",
   "execution_count": 0,
   "metadata": {
    "application/vnd.databricks.v1+cell": {
     "cellMetadata": {
      "byteLimit": 2048000,
      "rowLimit": 10000
     },
     "inputWidgets": {},
     "nuid": "55b6ed61-9664-4334-a5bd-d85c34df36ab",
     "showTitle": false,
     "tableResultSettingsMap": {},
     "title": ""
    }
   },
   "outputs": [
    {
     "output_type": "execute_result",
     "data": {
      "text/plain": [
       "[{'id': 1,\n",
       "  'name': 'Aurelia Deckow',\n",
       "  'company': 'Lehner, Rogahn and Kerluke',\n",
       "  'username': 'Lysanne.Hyatt72',\n",
       "  'email': 'Ryder32@gmail.com',\n",
       "  'address': '975 S Jefferson Street',\n",
       "  'zip': '90010-6414',\n",
       "  'state': 'Arkansas',\n",
       "  'country': 'Saint Kitts and Nevis',\n",
       "  'phone': '(422) 550-2806 x871',\n",
       "  'photo': 'https://json-server.dev/ai-profiles/91.png'},\n",
       " {'id': 2,\n",
       "  'name': 'Harold Faker Attribute Error: person.astName is not supported',\n",
       "  'company': \"O'Conner and Sons\",\n",
       "  'username': 'Zechariah_Lesch68',\n",
       "  'email': 'Davon.Bartoletti50@hotmail.com',\n",
       "  'address': '7778 Susan Spur',\n",
       "  'zip': '10044-3068',\n",
       "  'state': 'Hawaii',\n",
       "  'country': 'Myanmar',\n",
       "  'phone': '541.983.7599 x2014',\n",
       "  'photo': 'https://json-server.dev/ai-profiles/0.png'},\n",
       " {'id': 3,\n",
       "  'name': 'Karianne Schowalter',\n",
       "  'company': 'Ullrich LLC',\n",
       "  'username': 'Brielle.Carter',\n",
       "  'email': 'Mikayla79@hotmail.com',\n",
       "  'address': '4713 Efrain Camp',\n",
       "  'zip': '10875-3209',\n",
       "  'state': 'Iowa',\n",
       "  'country': 'Pakistan',\n",
       "  'phone': '426.295.4987 x8451',\n",
       "  'photo': 'https://json-server.dev/ai-profiles/52.png'},\n",
       " {'id': 4,\n",
       "  'name': 'Jacklyn Rodriguez',\n",
       "  'company': 'Lueilwitz, Thompson and Klocko',\n",
       "  'username': 'Tremaine_Davis',\n",
       "  'email': 'Maia.Ratke@yahoo.com',\n",
       "  'address': '322 Elissa Lakes',\n",
       "  'zip': '42211-9683',\n",
       "  'state': 'Vermont',\n",
       "  'country': 'Mauritania',\n",
       "  'phone': '558-252-1155',\n",
       "  'photo': 'https://json-server.dev/ai-profiles/55.png'},\n",
       " {'id': 5,\n",
       "  'name': 'Adalberto Lehner',\n",
       "  'company': 'Kuhic LLC',\n",
       "  'username': 'Asa_Dickinson78',\n",
       "  'email': 'Ardella51@yahoo.com',\n",
       "  'address': '691 Cross Street',\n",
       "  'zip': '87453',\n",
       "  'state': 'New Hampshire',\n",
       "  'country': 'Algeria',\n",
       "  'phone': '234.751.7367 x23812',\n",
       "  'photo': 'https://json-server.dev/ai-profiles/50.png'},\n",
       " {'id': 6,\n",
       "  'name': 'Christa Satterfield-Carter',\n",
       "  'company': 'Gottlieb, McLaughlin and Denesik',\n",
       "  'username': 'Cary26',\n",
       "  'email': 'Marcella11@hotmail.com',\n",
       "  'address': '288 Haylee Forge',\n",
       "  'zip': '69590-8791',\n",
       "  'state': 'South Dakota',\n",
       "  'country': 'Christmas Island',\n",
       "  'phone': '1-390-272-1915 x26599',\n",
       "  'photo': 'https://json-server.dev/ai-profiles/18.png'},\n",
       " {'id': 7,\n",
       "  'name': 'Brandon Will',\n",
       "  'company': 'Hayes, MacGyver and Harris',\n",
       "  'username': 'Liza22',\n",
       "  'email': 'Gabriel39@gmail.com',\n",
       "  'address': '1443 Ivah Islands',\n",
       "  'zip': '55542-7308',\n",
       "  'state': 'Louisiana',\n",
       "  'country': 'Turkmenistan',\n",
       "  'phone': '1-817-468-7401 x43782',\n",
       "  'photo': 'https://json-server.dev/ai-profiles/42.png'},\n",
       " {'id': 8,\n",
       "  'name': 'Cheyanne Altenwerth',\n",
       "  'company': 'Veum and Sons',\n",
       "  'username': 'Kara.Howell31',\n",
       "  'email': 'Teresa.Nicolas@yahoo.com',\n",
       "  'address': '34525 Douglas Road',\n",
       "  'zip': '89374-0956',\n",
       "  'state': 'Missouri',\n",
       "  'country': 'Bulgaria',\n",
       "  'phone': '(438) 990-5913',\n",
       "  'photo': 'https://json-server.dev/ai-profiles/21.png'},\n",
       " {'id': 9,\n",
       "  'name': 'Dasia Runte',\n",
       "  'company': 'Kris - Johns',\n",
       "  'username': 'Iva_Hickle83',\n",
       "  'email': 'April_Conn@gmail.com',\n",
       "  'address': '33292 Hessel Heights',\n",
       "  'zip': '37412',\n",
       "  'state': 'Ohio',\n",
       "  'country': 'Somalia',\n",
       "  'phone': '(697) 323-9232 x50469',\n",
       "  'photo': 'https://json-server.dev/ai-profiles/27.png'},\n",
       " {'id': 10,\n",
       "  'name': \"Kelly O'Conner\",\n",
       "  'company': 'Mann - Rau',\n",
       "  'username': 'John49',\n",
       "  'email': 'Lera.Kuhlman44@yahoo.com',\n",
       "  'address': '68475 N Market Street',\n",
       "  'zip': '05732',\n",
       "  'state': 'Alaska',\n",
       "  'country': 'Eritrea',\n",
       "  'phone': '1-691-987-3433 x8897',\n",
       "  'photo': 'https://json-server.dev/ai-profiles/47.png'}]"
      ]
     },
     "execution_count": 1,
     "metadata": {},
     "output_type": "execute_result"
    }
   ],
   "source": [
    "#Extracting data from api\n",
    "import requests\n",
    "from pyspark.sql import SparkSession\n",
    "spark = SparkSession.builder.appName('Spark DataFrames').getOrCreate()\n",
    "response = requests.get(\"https://fake-json-api.mock.beeceptor.com/users\")\n",
    "data = response.json()\n",
    "data"
   ]
  },
  {
   "cell_type": "code",
   "execution_count": 0,
   "metadata": {
    "application/vnd.databricks.v1+cell": {
     "cellMetadata": {
      "byteLimit": 2048000,
      "rowLimit": 10000
     },
     "inputWidgets": {},
     "nuid": "effb7434-e88d-49c4-972c-5fd9501ca9d9",
     "showTitle": false,
     "tableResultSettingsMap": {},
     "title": ""
    }
   },
   "outputs": [
    {
     "output_type": "stream",
     "name": "stdout",
     "output_type": "stream",
     "text": [
      "+--------------------+--------------------+--------------------+--------------------+---+--------------------+--------------------+--------------------+-------------+-----------------+----------+\n|             address|             company|             country|               email| id|                name|               phone|               photo|        state|         username|       zip|\n+--------------------+--------------------+--------------------+--------------------+---+--------------------+--------------------+--------------------+-------------+-----------------+----------+\n|975 S Jefferson S...|Lehner, Rogahn an...|Saint Kitts and N...|   Ryder32@gmail.com|  1|      Aurelia Deckow| (422) 550-2806 x871|https://json-serv...|     Arkansas|  Lysanne.Hyatt72|90010-6414|\n|     7778 Susan Spur|   O'Conner and Sons|             Myanmar|Davon.Bartoletti5...|  2|Harold Faker Attr...|  541.983.7599 x2014|https://json-serv...|       Hawaii|Zechariah_Lesch68|10044-3068|\n|    4713 Efrain Camp|         Ullrich LLC|            Pakistan|Mikayla79@hotmail...|  3| Karianne Schowalter|  426.295.4987 x8451|https://json-serv...|         Iowa|   Brielle.Carter|10875-3209|\n|    322 Elissa Lakes|Lueilwitz, Thomps...|          Mauritania|Maia.Ratke@yahoo.com|  4|   Jacklyn Rodriguez|        558-252-1155|https://json-serv...|      Vermont|   Tremaine_Davis|42211-9683|\n|    691 Cross Street|           Kuhic LLC|             Algeria| Ardella51@yahoo.com|  5|    Adalberto Lehner| 234.751.7367 x23812|https://json-serv...|New Hampshire|  Asa_Dickinson78|     87453|\n|    288 Haylee Forge|Gottlieb, McLaugh...|    Christmas Island|Marcella11@hotmai...|  6|Christa Satterfie...|1-390-272-1915 x2...|https://json-serv...| South Dakota|           Cary26|69590-8791|\n|   1443 Ivah Islands|Hayes, MacGyver a...|        Turkmenistan| Gabriel39@gmail.com|  7|        Brandon Will|1-817-468-7401 x4...|https://json-serv...|    Louisiana|           Liza22|55542-7308|\n|  34525 Douglas Road|       Veum and Sons|            Bulgaria|Teresa.Nicolas@ya...|  8| Cheyanne Altenwerth|      (438) 990-5913|https://json-serv...|     Missouri|    Kara.Howell31|89374-0956|\n|33292 Hessel Heights|        Kris - Johns|             Somalia|April_Conn@gmail.com|  9|         Dasia Runte|(697) 323-9232 x5...|https://json-serv...|         Ohio|     Iva_Hickle83|     37412|\n|68475 N Market St...|          Mann - Rau|             Eritrea|Lera.Kuhlman44@ya...| 10|      Kelly O'Conner|1-691-987-3433 x8897|https://json-serv...|       Alaska|           John49|     05732|\n+--------------------+--------------------+--------------------+--------------------+---+--------------------+--------------------+--------------------+-------------+-----------------+----------+\n\n"
     ]
    }
   ],
   "source": [
    "#Convert the data into a dataframe\n",
    "api_df = spark.createDataFrame(data)\n",
    "api_df.show()"
   ]
  },
  {
   "cell_type": "code",
   "execution_count": 0,
   "metadata": {
    "application/vnd.databricks.v1+cell": {
     "cellMetadata": {
      "byteLimit": 2048000,
      "rowLimit": 10000
     },
     "inputWidgets": {},
     "nuid": "6e21a678-f707-4830-99e6-c4c7533674aa",
     "showTitle": false,
     "tableResultSettingsMap": {},
     "title": ""
    }
   },
   "outputs": [
    {
     "output_type": "stream",
     "name": "stdout",
     "output_type": "stream",
     "text": [
      "Requirement already satisfied: beautifulsoup4 in /local_disk0/.ephemeral_nfs/envs/pythonEnv-0cc6df51-57b0-4f68-8fcf-cf43251d0204/lib/python3.12/site-packages (4.13.5)\nRequirement already satisfied: soupsieve>1.2 in /local_disk0/.ephemeral_nfs/envs/pythonEnv-0cc6df51-57b0-4f68-8fcf-cf43251d0204/lib/python3.12/site-packages (from beautifulsoup4) (2.8)\nRequirement already satisfied: typing-extensions>=4.0.0 in /databricks/python3/lib/python3.12/site-packages (from beautifulsoup4) (4.11.0)\n\u001B[43mNote: you may need to restart the kernel using %restart_python or dbutils.library.restartPython() to use updated packages.\u001B[0m\n"
     ]
    }
   ],
   "source": [
    "%pip install beautifulsoup4"
   ]
  },
  {
   "cell_type": "code",
   "execution_count": 0,
   "metadata": {
    "application/vnd.databricks.v1+cell": {
     "cellMetadata": {
      "byteLimit": 2048000,
      "rowLimit": 10000
     },
     "inputWidgets": {},
     "nuid": "cad2da42-a0f8-49d2-9a73-48d395946a83",
     "showTitle": false,
     "tableResultSettingsMap": {},
     "title": ""
    }
   },
   "outputs": [
    {
     "output_type": "stream",
     "name": "stdout",
     "output_type": "stream",
     "text": [
      "+--------------+--------------------+\n|         title|          paragraphs|\n+--------------+--------------------+\n|Example Domain|[This domain is f...|\n+--------------+--------------------+\n\n"
     ]
    }
   ],
   "source": [
    "#Web scrapping\n",
    "from bs4 import BeautifulSoup\n",
    "response = requests.get(\"https://example.com/\")\n",
    "soup = BeautifulSoup(response.content, \"html.parser\")\n",
    "\n",
    "#Extract specific elements\n",
    "title = soup.title.text\n",
    "paragraphs =[p.text for p in soup.find_all(\"p\")]\n",
    "\n",
    "web_df = spark.createDataFrame([(title, paragraphs)], [\"title\", \"paragraphs\"])\n",
    "web_df.show()"
   ]
  }
 ],
 "metadata": {
  "application/vnd.databricks.v1+notebook": {
   "computePreferences": {
    "hardware": {
     "accelerator": null,
     "gpuPoolId": null,
     "memory": null
    }
   },
   "dashboards": [],
   "environmentMetadata": {
    "base_environment": "",
    "environment_version": "3"
   },
   "inputWidgetPreferences": null,
   "language": "python",
   "notebookMetadata": {
    "pythonIndentUnit": 4
   },
   "notebookName": "Data Ingestion",
   "widgets": {}
  },
  "language_info": {
   "name": "python"
  }
 },
 "nbformat": 4,
 "nbformat_minor": 0
}
