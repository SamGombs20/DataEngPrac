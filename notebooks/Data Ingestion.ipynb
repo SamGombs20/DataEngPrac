{
 "cells": [
  {
   "cell_type": "code",
   "execution_count": 0,
   "metadata": {
    "application/vnd.databricks.v1+cell": {
     "cellMetadata": {
      "byteLimit": 2048000,
      "rowLimit": 10000
     },
     "inputWidgets": {},
     "nuid": "55b6ed61-9664-4334-a5bd-d85c34df36ab",
     "showTitle": false,
     "tableResultSettingsMap": {},
     "title": ""
    }
   },
   "outputs": [
    {
     "output_type": "execute_result",
     "data": {
      "text/plain": [
       "[{'id': 1,\n",
       "  'name': 'Deondre Rau',\n",
       "  'company': 'Medhurst - Ward',\n",
       "  'username': 'Marques_Adams',\n",
       "  'email': 'Nova.Bechtelar@yahoo.com',\n",
       "  'address': '1911 Mill Close',\n",
       "  'zip': '12334',\n",
       "  'state': 'California',\n",
       "  'country': 'Niger',\n",
       "  'phone': '571.927.2939',\n",
       "  'photo': 'https://json-server.dev/ai-profiles/29.png'},\n",
       " {'id': 2,\n",
       "  'name': 'Janice Faker Attribute Error: person.astName is not supported',\n",
       "  'company': 'Quigley - Luettgen',\n",
       "  'username': 'Delilah_McLaughlin10',\n",
       "  'email': 'Kamren64@yahoo.com',\n",
       "  'address': '26302 Waino Course',\n",
       "  'zip': '44257-1821',\n",
       "  'state': 'Mississippi',\n",
       "  'country': 'Romania',\n",
       "  'phone': '1-219-581-2602 x2261',\n",
       "  'photo': 'https://json-server.dev/ai-profiles/55.png'},\n",
       " {'id': 3,\n",
       "  'name': 'Kristin Herman',\n",
       "  'company': 'Padberg LLC',\n",
       "  'username': 'Keyon4',\n",
       "  'email': 'Crawford.Stroman@hotmail.com',\n",
       "  'address': '285 Larkin Overpass',\n",
       "  'zip': '67435',\n",
       "  'state': 'New Jersey',\n",
       "  'country': 'Israel',\n",
       "  'phone': '(792) 429-6122 x118',\n",
       "  'photo': 'https://json-server.dev/ai-profiles/77.png'},\n",
       " {'id': 4,\n",
       "  'name': 'Antonia Stehr',\n",
       "  'company': 'Goldner, Renner and Gislason',\n",
       "  'username': 'Stone.Fisher61',\n",
       "  'email': 'Zora48@yahoo.com',\n",
       "  'address': '8180 Hickle Plains',\n",
       "  'zip': '74237-8902',\n",
       "  'state': 'Rhode Island',\n",
       "  'country': 'Iceland',\n",
       "  'phone': '549.523.1892 x1681',\n",
       "  'photo': 'https://json-server.dev/ai-profiles/72.png'},\n",
       " {'id': 5,\n",
       "  'name': 'Howell Kris',\n",
       "  'company': 'Johnston, Heathcote and Prosacco',\n",
       "  'username': 'Cheyanne92',\n",
       "  'email': 'Linnie_Kautzer@hotmail.com',\n",
       "  'address': '2417 Mount Pleasant',\n",
       "  'zip': '70724-9729',\n",
       "  'state': 'Tennessee',\n",
       "  'country': 'Virgin Islands, British',\n",
       "  'phone': '249-785-9147 x87250',\n",
       "  'photo': 'https://json-server.dev/ai-profiles/68.png'},\n",
       " {'id': 6,\n",
       "  'name': 'Patsy McKenzie',\n",
       "  'company': 'Greenfelder LLC',\n",
       "  'username': 'Jaime_Beier85',\n",
       "  'email': 'Ford.Denesik@hotmail.com',\n",
       "  'address': '2658 Ellis Knoll',\n",
       "  'zip': '53960',\n",
       "  'state': 'North Dakota',\n",
       "  'country': 'Vietnam',\n",
       "  'phone': '1-408-365-4571 x483',\n",
       "  'photo': 'https://json-server.dev/ai-profiles/11.png'},\n",
       " {'id': 7,\n",
       "  'name': 'Eva Koss',\n",
       "  'company': 'Feeney - Ziemann',\n",
       "  'username': 'Lina.Balistreri',\n",
       "  'email': 'Jannie.Von38@hotmail.com',\n",
       "  'address': '2663 Wood Street',\n",
       "  'zip': '81097',\n",
       "  'state': 'California',\n",
       "  'country': 'Norway',\n",
       "  'phone': '575-613-6446',\n",
       "  'photo': 'https://json-server.dev/ai-profiles/82.png'},\n",
       " {'id': 8,\n",
       "  'name': 'Emmanuelle Gutmann',\n",
       "  'company': 'Cartwright, Johns and Schaden',\n",
       "  'username': 'Katheryn.Grady72',\n",
       "  'email': 'Torrance_Hudson@hotmail.com',\n",
       "  'address': '662 Rodolfo Canyon',\n",
       "  'zip': '88075-1858',\n",
       "  'state': 'New York',\n",
       "  'country': 'Mali',\n",
       "  'phone': '(630) 777-5019 x3958',\n",
       "  'photo': 'https://json-server.dev/ai-profiles/37.png'},\n",
       " {'id': 9,\n",
       "  'name': 'Darrel Terry',\n",
       "  'company': 'Prosacco Inc',\n",
       "  'username': 'Julius_Bruen48',\n",
       "  'email': 'Beverly11@hotmail.com',\n",
       "  'address': '562 Linnie Tunnel',\n",
       "  'zip': '93416',\n",
       "  'state': 'Alaska',\n",
       "  'country': 'Holy See (Vatican City State)',\n",
       "  'phone': '783.359.2892 x102',\n",
       "  'photo': 'https://json-server.dev/ai-profiles/34.png'},\n",
       " {'id': 10,\n",
       "  'name': 'Deron Robel',\n",
       "  'company': 'Littel Group',\n",
       "  'username': 'Robb67',\n",
       "  'email': 'Arnold93@gmail.com',\n",
       "  'address': '2065 South Avenue',\n",
       "  'zip': '45813-8782',\n",
       "  'state': 'Pennsylvania',\n",
       "  'country': 'Aruba',\n",
       "  'phone': '321.585.9100',\n",
       "  'photo': 'https://json-server.dev/ai-profiles/27.png'}]"
      ]
     },
     "execution_count": 1,
     "metadata": {},
     "output_type": "execute_result"
    }
   ],
   "source": [
    "#Extracting data from api\n",
    "import requests\n",
    "from pyspark.sql import SparkSession\n",
    "spark = SparkSession.builder.appName('Spark DataFrames').getOrCreate()\n",
    "response = requests.get(\"https://fake-json-api.mock.beeceptor.com/users\")\n",
    "data = response.json()\n",
    "data"
   ]
  },
  {
   "cell_type": "code",
   "execution_count": 0,
   "metadata": {
    "application/vnd.databricks.v1+cell": {
     "cellMetadata": {
      "byteLimit": 2048000,
      "rowLimit": 10000
     },
     "inputWidgets": {},
     "nuid": "999e7a38-66b0-4e1b-8848-51b2b05d9bb8",
     "showTitle": false,
     "tableResultSettingsMap": {},
     "title": ""
    }
   },
   "outputs": [],
   "source": [
    "download_url = \"https://raw.githubusercontent.com/chrisalbon/sim_data/master/titanic.csv\"\n",
    "path = \"/Volumes/workspace/default/my_files/csv/\"\n",
    "file_name = \"titanic.csv\""
   ]
  },
  {
   "cell_type": "code",
   "execution_count": 0,
   "metadata": {
    "application/vnd.databricks.v1+cell": {
     "cellMetadata": {
      "byteLimit": 2048000,
      "rowLimit": 10000
     },
     "inputWidgets": {},
     "nuid": "3c96d5d6-7750-4dad-9ce4-5cabb6dc5dca",
     "showTitle": false,
     "tableResultSettingsMap": {},
     "title": ""
    }
   },
   "outputs": [
    {
     "output_type": "execute_result",
     "data": {
      "text/plain": [
       "True"
      ]
     },
     "execution_count": 49,
     "metadata": {},
     "output_type": "execute_result"
    }
   ],
   "source": [
    "dbutils.fs.cp(f\"{download_url}\", f\"{path}/{file_name}\")"
   ]
  },
  {
   "cell_type": "code",
   "execution_count": 0,
   "metadata": {
    "application/vnd.databricks.v1+cell": {
     "cellMetadata": {
      "byteLimit": 2048000,
      "rowLimit": 10000
     },
     "inputWidgets": {},
     "nuid": "d21ae722-b109-4b9e-9d43-989bce1c9cb0",
     "showTitle": false,
     "tableResultSettingsMap": {},
     "title": ""
    }
   },
   "outputs": [
    {
     "output_type": "stream",
     "name": "stdout",
     "output_type": "stream",
     "text": [
      "+--------------------+------+----+------+--------+-------+\n|                Name|PClass| Age|   Sex|Survived|SexCode|\n+--------------------+------+----+------+--------+-------+\n|Allen, Miss Elisa...|   1st|29.0|female|       1|      1|\n|Allison, Miss Hel...|   1st| 2.0|female|       0|      1|\n|Allison, Mr Hudso...|   1st|30.0|  male|       0|      0|\n|Allison, Mrs Huds...|   1st|25.0|female|       0|      1|\n|Allison, Master H...|   1st|0.92|  male|       1|      0|\n|  Anderson, Mr Harry|   1st|47.0|  male|       1|      0|\n|Andrews, Miss Kor...|   1st|63.0|female|       1|      1|\n|Andrews, Mr Thoma...|   1st|39.0|  male|       0|      0|\n|Appleton, Mrs Edw...|   1st|58.0|female|       1|      1|\n|Artagaveytia, Mr ...|   1st|71.0|  male|       0|      0|\n|Astor, Colonel Jo...|   1st|47.0|  male|       0|      0|\n|Astor, Mrs John J...|   1st|19.0|female|       1|      1|\n|Aubert, Mrs Leont...|   1st|NULL|female|       1|      1|\n|Barkworth, Mr Alg...|   1st|NULL|  male|       1|      0|\n|  Baumann, Mr John D|   1st|NULL|  male|       0|      0|\n|Baxter, Mrs James...|   1st|50.0|female|       1|      1|\n|Baxter, Mr Quigg ...|   1st|24.0|  male|       0|      0|\n| Beattie, Mr Thomson|   1st|36.0|  male|       0|      0|\n|Beckwith, Mr Rich...|   1st|37.0|  male|       1|      0|\n|Beckwith, Mrs Ric...|   1st|47.0|female|       1|      1|\n+--------------------+------+----+------+--------+-------+\nonly showing top 20 rows\n"
     ]
    }
   ],
   "source": [
    "df = spark.read.csv(f\"{path}/{file_name}\", header=True)\n",
    "df.show()"
   ]
  },
  {
   "cell_type": "code",
   "execution_count": 0,
   "metadata": {
    "application/vnd.databricks.v1+cell": {
     "cellMetadata": {
      "byteLimit": 2048000,
      "rowLimit": 10000
     },
     "inputWidgets": {},
     "nuid": "5ac72c92-6253-4f34-a7dd-9071203ccd5a",
     "showTitle": false,
     "tableResultSettingsMap": {},
     "title": ""
    }
   },
   "outputs": [
    {
     "output_type": "stream",
     "name": "stdout",
     "output_type": "stream",
     "text": [
      "root\n |-- Name: string (nullable = true)\n |-- PClass: string (nullable = true)\n |-- Age: string (nullable = true)\n |-- Sex: string (nullable = true)\n |-- Survived: string (nullable = true)\n |-- SexCode: string (nullable = true)\n\n"
     ]
    }
   ],
   "source": [
    "df.printSchema()"
   ]
  },
  {
   "cell_type": "code",
   "execution_count": 0,
   "metadata": {
    "application/vnd.databricks.v1+cell": {
     "cellMetadata": {
      "byteLimit": 2048000,
      "rowLimit": 10000
     },
     "inputWidgets": {},
     "nuid": "effb7434-e88d-49c4-972c-5fd9501ca9d9",
     "showTitle": false,
     "tableResultSettingsMap": {},
     "title": ""
    }
   },
   "outputs": [
    {
     "output_type": "stream",
     "name": "stdout",
     "output_type": "stream",
     "text": [
      "+--------------------+--------------------+--------------------+--------------------+---+--------------------+--------------------+--------------------+-------------+-----------------+----------+\n|             address|             company|             country|               email| id|                name|               phone|               photo|        state|         username|       zip|\n+--------------------+--------------------+--------------------+--------------------+---+--------------------+--------------------+--------------------+-------------+-----------------+----------+\n|975 S Jefferson S...|Lehner, Rogahn an...|Saint Kitts and N...|   Ryder32@gmail.com|  1|      Aurelia Deckow| (422) 550-2806 x871|https://json-serv...|     Arkansas|  Lysanne.Hyatt72|90010-6414|\n|     7778 Susan Spur|   O'Conner and Sons|             Myanmar|Davon.Bartoletti5...|  2|Harold Faker Attr...|  541.983.7599 x2014|https://json-serv...|       Hawaii|Zechariah_Lesch68|10044-3068|\n|    4713 Efrain Camp|         Ullrich LLC|            Pakistan|Mikayla79@hotmail...|  3| Karianne Schowalter|  426.295.4987 x8451|https://json-serv...|         Iowa|   Brielle.Carter|10875-3209|\n|    322 Elissa Lakes|Lueilwitz, Thomps...|          Mauritania|Maia.Ratke@yahoo.com|  4|   Jacklyn Rodriguez|        558-252-1155|https://json-serv...|      Vermont|   Tremaine_Davis|42211-9683|\n|    691 Cross Street|           Kuhic LLC|             Algeria| Ardella51@yahoo.com|  5|    Adalberto Lehner| 234.751.7367 x23812|https://json-serv...|New Hampshire|  Asa_Dickinson78|     87453|\n|    288 Haylee Forge|Gottlieb, McLaugh...|    Christmas Island|Marcella11@hotmai...|  6|Christa Satterfie...|1-390-272-1915 x2...|https://json-serv...| South Dakota|           Cary26|69590-8791|\n|   1443 Ivah Islands|Hayes, MacGyver a...|        Turkmenistan| Gabriel39@gmail.com|  7|        Brandon Will|1-817-468-7401 x4...|https://json-serv...|    Louisiana|           Liza22|55542-7308|\n|  34525 Douglas Road|       Veum and Sons|            Bulgaria|Teresa.Nicolas@ya...|  8| Cheyanne Altenwerth|      (438) 990-5913|https://json-serv...|     Missouri|    Kara.Howell31|89374-0956|\n|33292 Hessel Heights|        Kris - Johns|             Somalia|April_Conn@gmail.com|  9|         Dasia Runte|(697) 323-9232 x5...|https://json-serv...|         Ohio|     Iva_Hickle83|     37412|\n|68475 N Market St...|          Mann - Rau|             Eritrea|Lera.Kuhlman44@ya...| 10|      Kelly O'Conner|1-691-987-3433 x8897|https://json-serv...|       Alaska|           John49|     05732|\n+--------------------+--------------------+--------------------+--------------------+---+--------------------+--------------------+--------------------+-------------+-----------------+----------+\n\n"
     ]
    }
   ],
   "source": [
    "#Convert the data into a dataframe\n",
    "api_df = spark.createDataFrame(data)\n",
    "api_df.show()"
   ]
  },
  {
   "cell_type": "code",
   "execution_count": 0,
   "metadata": {
    "application/vnd.databricks.v1+cell": {
     "cellMetadata": {
      "byteLimit": 2048000,
      "rowLimit": 10000
     },
     "inputWidgets": {},
     "nuid": "6e21a678-f707-4830-99e6-c4c7533674aa",
     "showTitle": false,
     "tableResultSettingsMap": {},
     "title": ""
    }
   },
   "outputs": [
    {
     "output_type": "stream",
     "name": "stdout",
     "output_type": "stream",
     "text": [
      "Requirement already satisfied: beautifulsoup4 in /local_disk0/.ephemeral_nfs/envs/pythonEnv-0cc6df51-57b0-4f68-8fcf-cf43251d0204/lib/python3.12/site-packages (4.13.5)\nRequirement already satisfied: soupsieve>1.2 in /local_disk0/.ephemeral_nfs/envs/pythonEnv-0cc6df51-57b0-4f68-8fcf-cf43251d0204/lib/python3.12/site-packages (from beautifulsoup4) (2.8)\nRequirement already satisfied: typing-extensions>=4.0.0 in /databricks/python3/lib/python3.12/site-packages (from beautifulsoup4) (4.11.0)\n\u001B[43mNote: you may need to restart the kernel using %restart_python or dbutils.library.restartPython() to use updated packages.\u001B[0m\n"
     ]
    }
   ],
   "source": [
    "%pip install beautifulsoup4"
   ]
  },
  {
   "cell_type": "code",
   "execution_count": 0,
   "metadata": {
    "application/vnd.databricks.v1+cell": {
     "cellMetadata": {
      "byteLimit": 2048000,
      "rowLimit": 10000
     },
     "inputWidgets": {},
     "nuid": "cad2da42-a0f8-49d2-9a73-48d395946a83",
     "showTitle": false,
     "tableResultSettingsMap": {},
     "title": ""
    }
   },
   "outputs": [
    {
     "output_type": "stream",
     "name": "stdout",
     "output_type": "stream",
     "text": [
      "+--------------+--------------------+\n|         title|          paragraphs|\n+--------------+--------------------+\n|Example Domain|[This domain is f...|\n+--------------+--------------------+\n\n"
     ]
    }
   ],
   "source": [
    "#Web scrapping\n",
    "from bs4 import BeautifulSoup\n",
    "response = requests.get(\"https://example.com/\")\n",
    "soup = BeautifulSoup(response.content, \"html.parser\")\n",
    "\n",
    "#Extract specific elements\n",
    "title = soup.title.text\n",
    "paragraphs =[p.text for p in soup.find_all(\"p\")]\n",
    "\n",
    "web_df = spark.createDataFrame([(title, paragraphs)], [\"title\", \"paragraphs\"])\n",
    "web_df.show()"
   ]
  }
 ],
 "metadata": {
  "application/vnd.databricks.v1+notebook": {
   "computePreferences": {
    "hardware": {
     "accelerator": null,
     "gpuPoolId": null,
     "memory": null
    }
   },
   "dashboards": [],
   "environmentMetadata": {
    "base_environment": "",
    "environment_version": "3"
   },
   "inputWidgetPreferences": null,
   "language": "python",
   "notebookMetadata": {
    "pythonIndentUnit": 4
   },
   "notebookName": "Data Ingestion",
   "widgets": {}
  },
  "language_info": {
   "name": "python"
  }
 },
 "nbformat": 4,
 "nbformat_minor": 0
}
