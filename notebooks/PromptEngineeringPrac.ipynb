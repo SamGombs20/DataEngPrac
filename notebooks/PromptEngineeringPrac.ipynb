{
 "cells": [
  {
   "cell_type": "markdown",
   "metadata": {
    "application/vnd.databricks.v1+cell": {
     "cellMetadata": {},
     "inputWidgets": {},
     "nuid": "40e61d4a-b31c-4f8d-b842-4293ec7030aa",
     "showTitle": false,
     "tableResultSettingsMap": {},
     "title": ""
    }
   },
   "source": [
    "### **Install dependencies and configure environment**"
   ]
  },
  {
   "cell_type": "code",
   "execution_count": 0,
   "metadata": {
    "application/vnd.databricks.v1+cell": {
     "cellMetadata": {
      "byteLimit": 2048000,
      "rowLimit": 10000
     },
     "inputWidgets": {},
     "nuid": "ba068439-2383-4bf1-aab8-18cc3fa208b9",
     "showTitle": false,
     "tableResultSettingsMap": {},
     "title": ""
    }
   },
   "outputs": [
    {
     "output_type": "stream",
     "name": "stdout",
     "output_type": "stream",
     "text": [
      "Collecting databricks_genai_inference==0.2.3\n  Downloading databricks_genai_inference-0.2.3-py3-none-any.whl.metadata (9.6 kB)\nRequirement already satisfied: pyyaml>=5.4.1 in /databricks/python3/lib/python3.12/site-packages (from databricks_genai_inference==0.2.3) (6.0.1)\nRequirement already satisfied: requests<3,>=2.26.0 in /databricks/python3/lib/python3.12/site-packages (from databricks_genai_inference==0.2.3) (2.32.2)\nCollecting databricks-sdk==0.19.1 (from databricks_genai_inference==0.2.3)\n  Downloading databricks_sdk-0.19.1-py3-none-any.whl.metadata (34 kB)\nRequirement already satisfied: pydantic>=2.4.2 in /databricks/python3/lib/python3.12/site-packages (from databricks_genai_inference==0.2.3) (2.8.2)\nRequirement already satisfied: typing-extensions>=4.7.1 in /databricks/python3/lib/python3.12/site-packages (from databricks_genai_inference==0.2.3) (4.11.0)\nCollecting tenacity==8.2.3 (from databricks_genai_inference==0.2.3)\n  Downloading tenacity-8.2.3-py3-none-any.whl.metadata (1.0 kB)\nCollecting httpx<1,>=0.23.0 (from databricks_genai_inference==0.2.3)\n  Downloading httpx-0.28.1-py3-none-any.whl.metadata (7.1 kB)\nRequirement already satisfied: google-auth~=2.0 in /databricks/python3/lib/python3.12/site-packages (from databricks-sdk==0.19.1->databricks_genai_inference==0.2.3) (2.38.0)\nRequirement already satisfied: anyio in /databricks/python3/lib/python3.12/site-packages (from httpx<1,>=0.23.0->databricks_genai_inference==0.2.3) (4.2.0)\nRequirement already satisfied: certifi in /databricks/python3/lib/python3.12/site-packages (from httpx<1,>=0.23.0->databricks_genai_inference==0.2.3) (2024.6.2)\nCollecting httpcore==1.* (from httpx<1,>=0.23.0->databricks_genai_inference==0.2.3)\n  Downloading httpcore-1.0.9-py3-none-any.whl.metadata (21 kB)\nRequirement already satisfied: idna in /databricks/python3/lib/python3.12/site-packages (from httpx<1,>=0.23.0->databricks_genai_inference==0.2.3) (3.7)\nCollecting h11>=0.16 (from httpcore==1.*->httpx<1,>=0.23.0->databricks_genai_inference==0.2.3)\n  Downloading h11-0.16.0-py3-none-any.whl.metadata (8.3 kB)\nRequirement already satisfied: annotated-types>=0.4.0 in /databricks/python3/lib/python3.12/site-packages (from pydantic>=2.4.2->databricks_genai_inference==0.2.3) (0.7.0)\nRequirement already satisfied: pydantic-core==2.20.1 in /databricks/python3/lib/python3.12/site-packages (from pydantic>=2.4.2->databricks_genai_inference==0.2.3) (2.20.1)\nRequirement already satisfied: charset-normalizer<4,>=2 in /databricks/python3/lib/python3.12/site-packages (from requests<3,>=2.26.0->databricks_genai_inference==0.2.3) (2.0.4)\nRequirement already satisfied: urllib3<3,>=1.21.1 in /databricks/python3/lib/python3.12/site-packages (from requests<3,>=2.26.0->databricks_genai_inference==0.2.3) (2.2.2)\nRequirement already satisfied: cachetools<6.0,>=2.0.0 in /databricks/python3/lib/python3.12/site-packages (from google-auth~=2.0->databricks-sdk==0.19.1->databricks_genai_inference==0.2.3) (5.3.3)\nRequirement already satisfied: pyasn1-modules>=0.2.1 in /databricks/python3/lib/python3.12/site-packages (from google-auth~=2.0->databricks-sdk==0.19.1->databricks_genai_inference==0.2.3) (0.2.8)\nRequirement already satisfied: rsa<5,>=3.1.4 in /databricks/python3/lib/python3.12/site-packages (from google-auth~=2.0->databricks-sdk==0.19.1->databricks_genai_inference==0.2.3) (4.9)\nRequirement already satisfied: sniffio>=1.1 in /databricks/python3/lib/python3.12/site-packages (from anyio->httpx<1,>=0.23.0->databricks_genai_inference==0.2.3) (1.3.0)\nRequirement already satisfied: pyasn1<0.5.0,>=0.4.6 in /databricks/python3/lib/python3.12/site-packages (from pyasn1-modules>=0.2.1->google-auth~=2.0->databricks-sdk==0.19.1->databricks_genai_inference==0.2.3) (0.4.8)\nDownloading databricks_genai_inference-0.2.3-py3-none-any.whl (17 kB)\nDownloading databricks_sdk-0.19.1-py3-none-any.whl (447 kB)\nDownloading tenacity-8.2.3-py3-none-any.whl (24 kB)\nDownloading httpx-0.28.1-py3-none-any.whl (73 kB)\nDownloading httpcore-1.0.9-py3-none-any.whl (78 kB)\nDownloading h11-0.16.0-py3-none-any.whl (37 kB)\nInstalling collected packages: tenacity, h11, httpcore, httpx, databricks-sdk, databricks_genai_inference\n  Attempting uninstall: tenacity\n    Found existing installation: tenacity 8.2.2\n    Not uninstalling tenacity at /databricks/python3/lib/python3.12/site-packages, outside environment /local_disk0/.ephemeral_nfs/envs/pythonEnv-95b31a76-ab3a-4378-a703-6d4bb58d9e9a\n    Can't uninstall 'tenacity'. No files were found to uninstall.\n  Attempting uninstall: h11\n    Found existing installation: h11 0.14.0\n    Not uninstalling h11 at /databricks/python3/lib/python3.12/site-packages, outside environment /local_disk0/.ephemeral_nfs/envs/pythonEnv-95b31a76-ab3a-4378-a703-6d4bb58d9e9a\n    Can't uninstall 'h11'. No files were found to uninstall.\n  Attempting uninstall: databricks-sdk\n    Found existing installation: databricks-sdk 0.49.0\n    Not uninstalling databricks-sdk at /databricks/python3/lib/python3.12/site-packages, outside environment /local_disk0/.ephemeral_nfs/envs/pythonEnv-95b31a76-ab3a-4378-a703-6d4bb58d9e9a\n    Can't uninstall 'databricks-sdk'. No files were found to uninstall.\n\u001B[31mERROR: pip's dependency resolver does not currently take into account all the packages that are installed. This behaviour is the source of the following dependency conflicts.\ndatabricks-connect 16.4.2 requires databricks-sdk>=0.46.0, but you have databricks-sdk 0.19.1 which is incompatible.\nmlflow-skinny 2.21.3 requires databricks-sdk<1,>=0.20.0, but you have databricks-sdk 0.19.1 which is incompatible.\u001B[0m\u001B[31m\n\u001B[0mSuccessfully installed databricks-sdk-0.19.1 databricks_genai_inference-0.2.3 h11-0.16.0 httpcore-1.0.9 httpx-0.28.1 tenacity-8.2.3\n\u001B[43mNote: you may need to restart the kernel using %restart_python or dbutils.library.restartPython() to use updated packages.\u001B[0m\n"
     ]
    }
   ],
   "source": [
    "!pip install databricks_genai_inference==0.2.3\n"
   ]
  },
  {
   "cell_type": "markdown",
   "metadata": {
    "application/vnd.databricks.v1+cell": {
     "cellMetadata": {},
     "inputWidgets": {},
     "nuid": "0238c537-2f56-4ee8-a273-9b1399e19d57",
     "showTitle": false,
     "tableResultSettingsMap": {},
     "title": ""
    }
   },
   "source": [
    "### **Query foundation models**\n",
    "**Query a chat completion model**"
   ]
  },
  {
   "cell_type": "code",
   "execution_count": 0,
   "metadata": {
    "application/vnd.databricks.v1+cell": {
     "cellMetadata": {
      "byteLimit": 2048000,
      "rowLimit": 10000
     },
     "inputWidgets": {},
     "nuid": "1570245a-21b1-4105-97f0-ec0395cd34e4",
     "showTitle": false,
     "tableResultSettingsMap": {},
     "title": ""
    }
   },
   "outputs": [
    {
     "output_type": "stream",
     "name": "stdout",
     "output_type": "stream",
     "text": [
      "Arrr, ye landlubber! Yer askin' about the mixture o' experts model, eh? Alright then, listen close and I'll tell ye about it.\n\nThe mixture o' experts model be a type o' ensemble inference methodology, ye see. It be a way o' makin' predictions by comin' up with a weighted average o' predictions from multiple expert models, each o' which be trained on a different subset o' the data.\n\nThink o' it like this, me hearty: imagine ye be havin' five different scurvy dogs, each with their own sea chart, makin' predictions about the best route to take to find treasure. But each dog be lookin' at the chart from a different angle, or maybe one be lookin' at the tides, another be studyin' the winds, and so on. By givein' each dog a wee bit o' weight (or importance) and addin' up their predictions, ye get a more accurate picture o' where the treasure be hidin' than if ye just relied on one o' them on their own.\n\nThis be roughly the idea behind the mixture o' experts model. It be a way o' aggregatin' predictions from multiple models, each o' which be trained on the same feature space, but on a different subset o' the data. By doin' so, ye can:\n\n* Improve the accuracy o' yer predictions\n* Reduce overfitting by preventin' any one model from overemphasizin' one part o' the data\n* Make predictions on complex datasets by applyin' multiple simple models that each be good at a specific task\n\nSo hoist the colors, me hearty, and set sail fer the realm o' mixture o' experts models!\n"
     ]
    }
   ],
   "source": [
    "from databricks_genai_inference import ChatCompletion\n",
    "chat_response = ChatCompletion.create(model=\"databricks-meta-llama-3-1-8b-instruct\",\n",
    "                                      messages=[{\"role\": \"user\", \"content\": \"What is a mixture of experts model?\"},\n",
    "                                                {\"role\":\"system\", \"content\": \"You are a pirate.\"}])\n",
    "print(chat_response.message)"
   ]
  },
  {
   "cell_type": "code",
   "execution_count": 0,
   "metadata": {
    "application/vnd.databricks.v1+cell": {
     "cellMetadata": {
      "byteLimit": 2048000,
      "rowLimit": 10000
     },
     "inputWidgets": {},
     "nuid": "0e5a7fd9-ae56-456e-832b-8db492fdab8e",
     "showTitle": false,
     "tableResultSettingsMap": {},
     "title": ""
    }
   },
   "outputs": [
    {
     "output_type": "stream",
     "name": "stdout",
     "output_type": "stream",
     "text": [
      "{\n  \"id\": \"chatcmpl_5ee2fb0a-1e7e-468e-8fcc-3524f60b8d63\",\n  \"object\": \"chat.completion\",\n  \"created\": 1758710934,\n  \"model\": \"meta-llama-3.1-8b-instruct-110524\",\n  \"choices\": [\n    {\n      \"index\": 0,\n      \"message\": {\n        \"role\": \"assistant\",\n        \"content\": \"A Mixture of Experts (MoE) model is a type of machine learning architecture that was first introduced in the 1990s. It's a relatively old but still relevant and powerful idea.\\n\\nThe basic concept behind a Mixture of Experts model is to combine the predictions of multiple \\\"experts\\\" to produce a single final output. Each expert is a separate model that is responsible for a specific sub-problem or subset of the input data. The MoE model learns to weight the contributions of each expert, assigning a higher weight to the expert that is most relevant for a given input.\\n\\nHere's a breakdown of how MoE works:\\n\\n1. **Experts**: Each expert is a separate model that takes a subset of the input data and produces a prediction or output.\\n2. **Gating network**: The gating network takes the input data and outputs a set of weights, each associated with one of the experts.\\n3. **Weighted sum**: The predictions from each expert are weighted by their corresponding weights output by the gating network, and the weighted sum is computed.\\n\\nThe overall MoE model can be represented as a combination of two networks:\\n\\nmoE(x) = \\u03a3(w_k \\\\* e_k(x)), where w_k is the weight of each expert k, and e_k(x) is the prediction of each expert k for input x.\\n\\nMoE models have several advantages:\\n\\n1. **Flexibility**: MoE models can handle a wide range of tasks and data types.\\n2. **Interpretability**: The weights of each expert provide insight into which sub-problem is most relevant for a given input.\\n3. **Improved generalization**: By combining multiple experts, MoE models can learn to generalize to regions of the input space where single models might fail.\\n\\nHowever, MoE models also come with some drawbacks:\\n\\n1. **Increased complexity**: MoE models require training multiple models (experts) and a gating network.\\n2. **Training complexity**: Training MoE models can be computationally expensive and require careful tuning of hyperparameters.\\n\\nOverall, Mixture of Experts models are a powerful tool for tackling complex, high-dimensional tasks that involve multiple sub-problems or subset of input data.\"\n      },\n      \"finish_reason\": \"stop\",\n      \"logprobs\": null\n    }\n  ],\n  \"usage\": {\n    \"prompt_tokens\": 29,\n    \"completion_tokens\": 443,\n    \"total_tokens\": 472\n  }\n}\n"
     ]
    }
   ],
   "source": [
    "print(chat_response)"
   ]
  },
  {
   "cell_type": "markdown",
   "metadata": {
    "application/vnd.databricks.v1+cell": {
     "cellMetadata": {},
     "inputWidgets": {},
     "nuid": "6d3aa605-5d64-4ac3-abda-02f2c8994b37",
     "showTitle": false,
     "tableResultSettingsMap": {},
     "title": ""
    }
   },
   "source": [
    "**Query a text completion model**"
   ]
  },
  {
   "cell_type": "code",
   "execution_count": 0,
   "metadata": {
    "application/vnd.databricks.v1+cell": {
     "cellMetadata": {
      "byteLimit": 2048000,
      "rowLimit": 10000
     },
     "inputWidgets": {},
     "nuid": "7ed0d3db-b38b-424c-a0f5-357f5c116d07",
     "showTitle": false,
     "tableResultSettingsMap": {},
     "title": ""
    }
   },
   "outputs": [
    {
     "output_type": "display_data",
     "data": {
      "text/plain": [
       "\u001B[0;31m---------------------------------------------------------------------------\u001B[0m\n",
       "\u001B[0;31mFoundationModelAPIException\u001B[0m               Traceback (most recent call last)\n",
       "File \u001B[0;32m<command-5428176026074430>, line 3\u001B[0m\n",
       "\u001B[1;32m      1\u001B[0m \u001B[38;5;28;01mfrom\u001B[39;00m \u001B[38;5;21;01mdatabricks_genai_inference\u001B[39;00m \u001B[38;5;28;01mimport\u001B[39;00m Completion\n",
       "\u001B[0;32m----> 3\u001B[0m text_response \u001B[38;5;241m=\u001B[39m Completion\u001B[38;5;241m.\u001B[39mcreate(\n",
       "\u001B[1;32m      4\u001B[0m     model\u001B[38;5;241m=\u001B[39m\u001B[38;5;124m\"\u001B[39m\u001B[38;5;124mdatabricks-llama-4-maverick\u001B[39m\u001B[38;5;124m\"\u001B[39m,\n",
       "\u001B[1;32m      5\u001B[0m     prompt\u001B[38;5;241m=\u001B[39m\u001B[38;5;124m\"\u001B[39m\u001B[38;5;124mWrite 3 examples of AI usage.\u001B[39m\u001B[38;5;124m\"\u001B[39m,\n",
       "\u001B[1;32m      6\u001B[0m     max_tokens\u001B[38;5;241m=\u001B[39m\u001B[38;5;241m128\u001B[39m\n",
       "\u001B[1;32m      7\u001B[0m )\n",
       "\u001B[1;32m      8\u001B[0m \u001B[38;5;28mprint\u001B[39m(text_response\u001B[38;5;241m.\u001B[39mtext)\n",
       "\n",
       "File \u001B[0;32m/local_disk0/.ephemeral_nfs/envs/pythonEnv-95b31a76-ab3a-4378-a703-6d4bb58d9e9a/lib/python3.12/site-packages/databricks_genai_inference/api/abstract/foundation_model_api_resource.py:98\u001B[0m, in \u001B[0;36mFoundationModelAPIResource.create\u001B[0;34m(cls, client, **kwargs)\u001B[0m\n",
       "\u001B[1;32m     88\u001B[0m \u001B[38;5;250m\u001B[39m\u001B[38;5;124;03m\"\"\"\u001B[39;00m\n",
       "\u001B[1;32m     89\u001B[0m \u001B[38;5;124;03mCreates a new API response.\u001B[39;00m\n",
       "\u001B[1;32m     90\u001B[0m \n",
       "\u001B[0;32m   (...)\u001B[0m\n",
       "\u001B[1;32m     95\u001B[0m \u001B[38;5;124;03mThe result of the API query.\u001B[39;00m\n",
       "\u001B[1;32m     96\u001B[0m \u001B[38;5;124;03m\"\"\"\u001B[39;00m\n",
       "\u001B[1;32m     97\u001B[0m api_input, endpoint \u001B[38;5;241m=\u001B[39m \u001B[38;5;28mcls\u001B[39m\u001B[38;5;241m.\u001B[39m_parse_and_validate_request(\u001B[38;5;241m*\u001B[39m\u001B[38;5;241m*\u001B[39mkwargs)\n",
       "\u001B[0;32m---> 98\u001B[0m \u001B[38;5;28;01mreturn\u001B[39;00m \u001B[38;5;28mcls\u001B[39m\u001B[38;5;241m.\u001B[39m_make_query(client, api_input, endpoint)\n",
       "\n",
       "File \u001B[0;32m/local_disk0/.ephemeral_nfs/envs/pythonEnv-95b31a76-ab3a-4378-a703-6d4bb58d9e9a/lib/python3.12/site-packages/databricks_genai_inference/api/abstract/foundation_model_api_resource.py:171\u001B[0m, in \u001B[0;36mFoundationModelAPIResource._make_query\u001B[0;34m(cls, client, model_input, endpoint)\u001B[0m\n",
       "\u001B[1;32m    169\u001B[0m     \u001B[38;5;28;01mraise\u001B[39;00m FoundationModelAPIException(message\u001B[38;5;241m=\u001B[39m\u001B[38;5;124m\"\u001B[39m\u001B[38;5;124mAPI request failed with connection error\u001B[39m\u001B[38;5;124m\"\u001B[39m) \u001B[38;5;28;01mfrom\u001B[39;00m \u001B[38;5;21;01me\u001B[39;00m\n",
       "\u001B[1;32m    170\u001B[0m \u001B[38;5;28;01mexcept\u001B[39;00m FoundationModelAPIException \u001B[38;5;28;01mas\u001B[39;00m e:\n",
       "\u001B[0;32m--> 171\u001B[0m     \u001B[38;5;28;01mraise\u001B[39;00m e\n",
       "\n",
       "File \u001B[0;32m/local_disk0/.ephemeral_nfs/envs/pythonEnv-95b31a76-ab3a-4378-a703-6d4bb58d9e9a/lib/python3.12/site-packages/databricks_genai_inference/api/abstract/foundation_model_api_resource.py:160\u001B[0m, in \u001B[0;36mFoundationModelAPIResource._make_query\u001B[0;34m(cls, client, model_input, endpoint)\u001B[0m\n",
       "\u001B[1;32m    153\u001B[0m         \u001B[38;5;28;01mreturn\u001B[39;00m \u001B[38;5;28mcls\u001B[39m\u001B[38;5;241m.\u001B[39m_get_streaming_response(client\u001B[38;5;241m=\u001B[39mclient,\n",
       "\u001B[1;32m    154\u001B[0m                                            url\u001B[38;5;241m=\u001B[39murl,\n",
       "\u001B[1;32m    155\u001B[0m                                            headers\u001B[38;5;241m=\u001B[39mheaders,\n",
       "\u001B[1;32m    156\u001B[0m                                            json\u001B[38;5;241m=\u001B[39mjson,\n",
       "\u001B[1;32m    157\u001B[0m                                            timeout\u001B[38;5;241m=\u001B[39mtimeout,\n",
       "\u001B[1;32m    158\u001B[0m                                            max_retries\u001B[38;5;241m=\u001B[39mmax_retries)\n",
       "\u001B[1;32m    159\u001B[0m     \u001B[38;5;28;01melse\u001B[39;00m:\n",
       "\u001B[0;32m--> 160\u001B[0m         \u001B[38;5;28;01mreturn\u001B[39;00m \u001B[38;5;28mcls\u001B[39m\u001B[38;5;241m.\u001B[39m_get_non_streaming_response(client\u001B[38;5;241m=\u001B[39mclient,\n",
       "\u001B[1;32m    161\u001B[0m                                                url\u001B[38;5;241m=\u001B[39murl,\n",
       "\u001B[1;32m    162\u001B[0m                                                headers\u001B[38;5;241m=\u001B[39mheaders,\n",
       "\u001B[1;32m    163\u001B[0m                                                json\u001B[38;5;241m=\u001B[39mjson,\n",
       "\u001B[1;32m    164\u001B[0m                                                timeout\u001B[38;5;241m=\u001B[39mtimeout,\n",
       "\u001B[1;32m    165\u001B[0m                                                max_retries\u001B[38;5;241m=\u001B[39mmax_retries)\n",
       "\u001B[1;32m    166\u001B[0m \u001B[38;5;28;01mexcept\u001B[39;00m requests\u001B[38;5;241m.\u001B[39mexceptions\u001B[38;5;241m.\u001B[39mReadTimeout \u001B[38;5;28;01mas\u001B[39;00m e:\n",
       "\u001B[1;32m    167\u001B[0m     \u001B[38;5;28;01mraise\u001B[39;00m FoundationModelAPIException(message\u001B[38;5;241m=\u001B[39m\u001B[38;5;124mf\u001B[39m\u001B[38;5;124m'\u001B[39m\u001B[38;5;124mAPI request timed out after \u001B[39m\u001B[38;5;132;01m{\u001B[39;00mtimeout\u001B[38;5;132;01m}\u001B[39;00m\u001B[38;5;124m seconds\u001B[39m\u001B[38;5;124m'\u001B[39m) \u001B[38;5;28;01mfrom\u001B[39;00m \u001B[38;5;21;01me\u001B[39;00m\n",
       "\n",
       "File \u001B[0;32m/local_disk0/.ephemeral_nfs/envs/pythonEnv-95b31a76-ab3a-4378-a703-6d4bb58d9e9a/lib/python3.12/site-packages/databricks_genai_inference/api/abstract/foundation_model_api_resource.py:198\u001B[0m, in \u001B[0;36mFoundationModelAPIResource._get_non_streaming_response\u001B[0;34m(cls, client, url, headers, json, timeout, max_retries)\u001B[0m\n",
       "\u001B[1;32m    196\u001B[0m         \u001B[38;5;28;01mraise\u001B[39;00m FoundationModelAPIException(response\u001B[38;5;241m=\u001B[39mresponse, url\u001B[38;5;241m=\u001B[39murl) \u001B[38;5;28;01mfrom\u001B[39;00m \u001B[38;5;21;01me\u001B[39;00m\n",
       "\u001B[1;32m    197\u001B[0m \u001B[38;5;28;01melse\u001B[39;00m:\n",
       "\u001B[0;32m--> 198\u001B[0m     \u001B[38;5;28;01mraise\u001B[39;00m FoundationModelAPIException(response\u001B[38;5;241m=\u001B[39mresponse, url\u001B[38;5;241m=\u001B[39murl)\n",
       "\n",
       "\u001B[0;31mFoundationModelAPIException\u001B[0m: \n",
       "code: 400\n",
       "reason: {\"error_code\":\"BAD_REQUEST\",\"message\":\"Bad request: json: unknown field \\\"prompt\\\"\\n\"}\n",
       "url: https://dbc-0037efea-f1d8.cloud.databricks.com/serving-endpoints/databricks-llama-4-maverick/invocations"
      ]
     },
     "metadata": {
      "application/vnd.databricks.v1+output": {
       "addedWidgets": {},
       "arguments": {},
       "datasetInfos": [],
       "jupyterProps": {
        "ename": "FoundationModelAPIException",
        "evalue": "\ncode: 400\nreason: {\"error_code\":\"BAD_REQUEST\",\"message\":\"Bad request: json: unknown field \\\"prompt\\\"\\n\"}\nurl: https://dbc-0037efea-f1d8.cloud.databricks.com/serving-endpoints/databricks-llama-4-maverick/invocations"
       },
       "metadata": {
        "errorSummary": "<span class='ansi-red-fg'>FoundationModelAPIException</span>: \ncode: 400\nreason: {\"error_code\":\"BAD_REQUEST\",\"message\":\"Bad request: json: unknown field \\\"prompt\\\"\\n\"}\nurl: https://dbc-0037efea-f1d8.cloud.databricks.com/serving-endpoints/databricks-llama-4-maverick/invocations"
       },
       "removedWidgets": [],
       "sqlProps": null,
       "stackFrames": [
        "\u001B[0;31m---------------------------------------------------------------------------\u001B[0m",
        "\u001B[0;31mFoundationModelAPIException\u001B[0m               Traceback (most recent call last)",
        "File \u001B[0;32m<command-5428176026074430>, line 3\u001B[0m\n\u001B[1;32m      1\u001B[0m \u001B[38;5;28;01mfrom\u001B[39;00m \u001B[38;5;21;01mdatabricks_genai_inference\u001B[39;00m \u001B[38;5;28;01mimport\u001B[39;00m Completion\n\u001B[0;32m----> 3\u001B[0m text_response \u001B[38;5;241m=\u001B[39m Completion\u001B[38;5;241m.\u001B[39mcreate(\n\u001B[1;32m      4\u001B[0m     model\u001B[38;5;241m=\u001B[39m\u001B[38;5;124m\"\u001B[39m\u001B[38;5;124mdatabricks-llama-4-maverick\u001B[39m\u001B[38;5;124m\"\u001B[39m,\n\u001B[1;32m      5\u001B[0m     prompt\u001B[38;5;241m=\u001B[39m\u001B[38;5;124m\"\u001B[39m\u001B[38;5;124mWrite 3 examples of AI usage.\u001B[39m\u001B[38;5;124m\"\u001B[39m,\n\u001B[1;32m      6\u001B[0m     max_tokens\u001B[38;5;241m=\u001B[39m\u001B[38;5;241m128\u001B[39m\n\u001B[1;32m      7\u001B[0m )\n\u001B[1;32m      8\u001B[0m \u001B[38;5;28mprint\u001B[39m(text_response\u001B[38;5;241m.\u001B[39mtext)\n",
        "File \u001B[0;32m/local_disk0/.ephemeral_nfs/envs/pythonEnv-95b31a76-ab3a-4378-a703-6d4bb58d9e9a/lib/python3.12/site-packages/databricks_genai_inference/api/abstract/foundation_model_api_resource.py:98\u001B[0m, in \u001B[0;36mFoundationModelAPIResource.create\u001B[0;34m(cls, client, **kwargs)\u001B[0m\n\u001B[1;32m     88\u001B[0m \u001B[38;5;250m\u001B[39m\u001B[38;5;124;03m\"\"\"\u001B[39;00m\n\u001B[1;32m     89\u001B[0m \u001B[38;5;124;03mCreates a new API response.\u001B[39;00m\n\u001B[1;32m     90\u001B[0m \n\u001B[0;32m   (...)\u001B[0m\n\u001B[1;32m     95\u001B[0m \u001B[38;5;124;03mThe result of the API query.\u001B[39;00m\n\u001B[1;32m     96\u001B[0m \u001B[38;5;124;03m\"\"\"\u001B[39;00m\n\u001B[1;32m     97\u001B[0m api_input, endpoint \u001B[38;5;241m=\u001B[39m \u001B[38;5;28mcls\u001B[39m\u001B[38;5;241m.\u001B[39m_parse_and_validate_request(\u001B[38;5;241m*\u001B[39m\u001B[38;5;241m*\u001B[39mkwargs)\n\u001B[0;32m---> 98\u001B[0m \u001B[38;5;28;01mreturn\u001B[39;00m \u001B[38;5;28mcls\u001B[39m\u001B[38;5;241m.\u001B[39m_make_query(client, api_input, endpoint)\n",
        "File \u001B[0;32m/local_disk0/.ephemeral_nfs/envs/pythonEnv-95b31a76-ab3a-4378-a703-6d4bb58d9e9a/lib/python3.12/site-packages/databricks_genai_inference/api/abstract/foundation_model_api_resource.py:171\u001B[0m, in \u001B[0;36mFoundationModelAPIResource._make_query\u001B[0;34m(cls, client, model_input, endpoint)\u001B[0m\n\u001B[1;32m    169\u001B[0m     \u001B[38;5;28;01mraise\u001B[39;00m FoundationModelAPIException(message\u001B[38;5;241m=\u001B[39m\u001B[38;5;124m\"\u001B[39m\u001B[38;5;124mAPI request failed with connection error\u001B[39m\u001B[38;5;124m\"\u001B[39m) \u001B[38;5;28;01mfrom\u001B[39;00m \u001B[38;5;21;01me\u001B[39;00m\n\u001B[1;32m    170\u001B[0m \u001B[38;5;28;01mexcept\u001B[39;00m FoundationModelAPIException \u001B[38;5;28;01mas\u001B[39;00m e:\n\u001B[0;32m--> 171\u001B[0m     \u001B[38;5;28;01mraise\u001B[39;00m e\n",
        "File \u001B[0;32m/local_disk0/.ephemeral_nfs/envs/pythonEnv-95b31a76-ab3a-4378-a703-6d4bb58d9e9a/lib/python3.12/site-packages/databricks_genai_inference/api/abstract/foundation_model_api_resource.py:160\u001B[0m, in \u001B[0;36mFoundationModelAPIResource._make_query\u001B[0;34m(cls, client, model_input, endpoint)\u001B[0m\n\u001B[1;32m    153\u001B[0m         \u001B[38;5;28;01mreturn\u001B[39;00m \u001B[38;5;28mcls\u001B[39m\u001B[38;5;241m.\u001B[39m_get_streaming_response(client\u001B[38;5;241m=\u001B[39mclient,\n\u001B[1;32m    154\u001B[0m                                            url\u001B[38;5;241m=\u001B[39murl,\n\u001B[1;32m    155\u001B[0m                                            headers\u001B[38;5;241m=\u001B[39mheaders,\n\u001B[1;32m    156\u001B[0m                                            json\u001B[38;5;241m=\u001B[39mjson,\n\u001B[1;32m    157\u001B[0m                                            timeout\u001B[38;5;241m=\u001B[39mtimeout,\n\u001B[1;32m    158\u001B[0m                                            max_retries\u001B[38;5;241m=\u001B[39mmax_retries)\n\u001B[1;32m    159\u001B[0m     \u001B[38;5;28;01melse\u001B[39;00m:\n\u001B[0;32m--> 160\u001B[0m         \u001B[38;5;28;01mreturn\u001B[39;00m \u001B[38;5;28mcls\u001B[39m\u001B[38;5;241m.\u001B[39m_get_non_streaming_response(client\u001B[38;5;241m=\u001B[39mclient,\n\u001B[1;32m    161\u001B[0m                                                url\u001B[38;5;241m=\u001B[39murl,\n\u001B[1;32m    162\u001B[0m                                                headers\u001B[38;5;241m=\u001B[39mheaders,\n\u001B[1;32m    163\u001B[0m                                                json\u001B[38;5;241m=\u001B[39mjson,\n\u001B[1;32m    164\u001B[0m                                                timeout\u001B[38;5;241m=\u001B[39mtimeout,\n\u001B[1;32m    165\u001B[0m                                                max_retries\u001B[38;5;241m=\u001B[39mmax_retries)\n\u001B[1;32m    166\u001B[0m \u001B[38;5;28;01mexcept\u001B[39;00m requests\u001B[38;5;241m.\u001B[39mexceptions\u001B[38;5;241m.\u001B[39mReadTimeout \u001B[38;5;28;01mas\u001B[39;00m e:\n\u001B[1;32m    167\u001B[0m     \u001B[38;5;28;01mraise\u001B[39;00m FoundationModelAPIException(message\u001B[38;5;241m=\u001B[39m\u001B[38;5;124mf\u001B[39m\u001B[38;5;124m'\u001B[39m\u001B[38;5;124mAPI request timed out after \u001B[39m\u001B[38;5;132;01m{\u001B[39;00mtimeout\u001B[38;5;132;01m}\u001B[39;00m\u001B[38;5;124m seconds\u001B[39m\u001B[38;5;124m'\u001B[39m) \u001B[38;5;28;01mfrom\u001B[39;00m \u001B[38;5;21;01me\u001B[39;00m\n",
        "File \u001B[0;32m/local_disk0/.ephemeral_nfs/envs/pythonEnv-95b31a76-ab3a-4378-a703-6d4bb58d9e9a/lib/python3.12/site-packages/databricks_genai_inference/api/abstract/foundation_model_api_resource.py:198\u001B[0m, in \u001B[0;36mFoundationModelAPIResource._get_non_streaming_response\u001B[0;34m(cls, client, url, headers, json, timeout, max_retries)\u001B[0m\n\u001B[1;32m    196\u001B[0m         \u001B[38;5;28;01mraise\u001B[39;00m FoundationModelAPIException(response\u001B[38;5;241m=\u001B[39mresponse, url\u001B[38;5;241m=\u001B[39murl) \u001B[38;5;28;01mfrom\u001B[39;00m \u001B[38;5;21;01me\u001B[39;00m\n\u001B[1;32m    197\u001B[0m \u001B[38;5;28;01melse\u001B[39;00m:\n\u001B[0;32m--> 198\u001B[0m     \u001B[38;5;28;01mraise\u001B[39;00m FoundationModelAPIException(response\u001B[38;5;241m=\u001B[39mresponse, url\u001B[38;5;241m=\u001B[39murl)\n",
        "\u001B[0;31mFoundationModelAPIException\u001B[0m: \ncode: 400\nreason: {\"error_code\":\"BAD_REQUEST\",\"message\":\"Bad request: json: unknown field \\\"prompt\\\"\\n\"}\nurl: https://dbc-0037efea-f1d8.cloud.databricks.com/serving-endpoints/databricks-llama-4-maverick/invocations"
       ],
       "type": "baseError"
      }
     },
     "output_type": "display_data"
    }
   ],
   "source": [
    "from databricks_genai_inference import Completion\n",
    "\n",
    "text_response = Completion.create(\n",
    "    model=\"databricks-llama-4-maverick\",\n",
    "    prompt=\"Write 3 examples of AI usage.\",\n",
    "    max_tokens=128\n",
    ")\n",
    "print(text_response.text)"
   ]
  },
  {
   "cell_type": "markdown",
   "metadata": {
    "application/vnd.databricks.v1+cell": {
     "cellMetadata": {},
     "inputWidgets": {},
     "nuid": "b0c717bc-88f7-4ade-846b-e3dbf1c53deb",
     "showTitle": false,
     "tableResultSettingsMap": {},
     "title": ""
    }
   },
   "source": [
    "**Query an embedding model**"
   ]
  },
  {
   "cell_type": "code",
   "execution_count": 0,
   "metadata": {
    "application/vnd.databricks.v1+cell": {
     "cellMetadata": {
      "byteLimit": 2048000,
      "rowLimit": 10000
     },
     "inputWidgets": {},
     "nuid": "592c38a7-e2a6-4d17-b0b3-cb7a4483551e",
     "showTitle": false,
     "tableResultSettingsMap": {},
     "title": ""
    }
   },
   "outputs": [
    {
     "output_type": "stream",
     "name": "stdout",
     "output_type": "stream",
     "text": [
      "[[0.0114898681640625, 0.0298309326171875, 0.00380706787109375, 0.035888671875, -0.015899658203125, -0.0149383544921875, -0.018096923828125, -0.002910614013671875, 0.0308990478515625, 0.033935546875, 0.01474761962890625, 0.01399993896484375, 0.0283050537109375, -0.0223236083984375, -0.020538330078125, -0.0097503662109375, -0.03411865234375, 0.019622802734375, -0.04754638671875, -0.02264404296875, -0.04046630859375, 0.026580810546875, -0.032501220703125, -0.029205322265625, -0.01548004150390625, 0.021240234375, -0.00988006591796875, 0.01532745361328125, 0.033172607421875, 0.060455322265625, -0.0151214599609375, -0.0079193115234375, -0.01380157470703125, -0.059814453125, 0.0108795166015625, -0.0323486328125, 0.06390380859375, -0.0254974365234375, -0.01116943359375, -0.05181884765625, -0.0178070068359375, 0.017333984375, 0.0237579345703125, -0.000720977783203125, -0.056671142578125, -0.049285888671875, -0.01092529296875, -0.020355224609375, -0.0013713836669921875, 0.006317138671875, 0.006786346435546875, 0.0015087127685546875, 0.01448822021484375, -0.0005140304565429688, 0.00687408447265625, -0.01329803466796875, -0.0384521484375, -0.014129638671875, -0.050506591796875, 0.05108642578125, 0.031005859375, 0.0035686492919921875, 0.026519775390625, -0.06463623046875, 0.01149749755859375, -0.026275634765625, -0.0042572021484375, -0.01317596435546875, 0.0208587646484375, -0.038818359375, -0.01543426513671875, 0.03265380859375, 7.659196853637695e-05, -0.0316162109375, -0.01250457763671875, 0.02001953125, -0.00719451904296875, 0.02435302734375, -0.011260986328125, 0.04864501953125, 0.0159912109375, 0.01837158203125, 0.003753662109375, -0.0167083740234375, -0.068115234375, -0.0173187255859375, 0.0075225830078125, 0.0307159423828125, 0.0321044921875, -0.0190277099609375, 0.022918701171875, 0.048614501953125, -0.037353515625, 0.00397491455078125, -0.01242828369140625, 0.0045318603515625, 0.0180511474609375, -0.0022792816162109375, 0.0260009765625, 0.0077667236328125, 0.0467529296875, 0.0301666259765625, 0.0034008026123046875, 0.054351806640625, -0.0653076171875, 0.0206756591796875, 0.0155181884765625, -0.0081024169921875, -0.0489501953125, -0.044586181640625, 0.01361083984375, -0.00423431396484375, 0.02569580078125, 0.01372528076171875, -0.04132080078125, 0.0287017822265625, -0.01216888427734375, 0.033905029296875, -0.0309295654296875, -0.0139923095703125, 0.0224151611328125, 0.02874755859375, -0.0176239013671875, -0.00823211669921875, -0.01290130615234375, -0.0009636878967285156, -0.0176544189453125, 0.017181396484375, -0.0290069580078125, -0.02197265625, 0.011138916015625, -0.007671356201171875, 0.03643798828125, 0.037811279296875, -0.0036449432373046875, 0.006683349609375, 0.015533447265625, 0.029541015625, 0.00505828857421875, -0.0264129638671875, 0.0003490447998046875, 0.061676025390625, -0.0104827880859375, 0.0721435546875, 0.0114593505859375, 0.020843505859375, 0.0047454833984375, -0.00933074951171875, -0.028411865234375, 0.0203399658203125, -0.02935791015625, -0.0157470703125, 0.006374359130859375, 0.0018396377563476562, -0.0404052734375, -0.00543212890625, -0.018585205078125, -0.007541656494140625, -0.011749267578125, 0.0255279541015625, -0.05230712890625, 0.04534912109375, -0.0171661376953125, 0.00424957275390625, -0.029632568359375, 0.0137786865234375, -0.01953125, 0.0098114013671875, -0.0033473968505859375, -0.01306915283203125, 0.04156494140625, 0.0117340087890625, -0.00861358642578125, 0.0155029296875, 0.01904296875, 0.02459716796875, 0.0440673828125, -0.01256561279296875, 0.020355224609375, 0.0231781005859375, -0.03179931640625, 0.005634307861328125, 0.00955963134765625, 0.059234619140625, 0.01146697998046875, 0.0172271728515625, -0.00726318359375, -0.0235137939453125, -0.0203704833984375, -0.019134521484375, -0.0013990402221679688, 0.003803253173828125, -0.017303466796875, 0.036346435546875, 0.009979248046875, 0.03729248046875, -0.0297088623046875, 0.02508544921875, -0.0083465576171875, -0.11041259765625, -0.042449951171875, 0.04656982421875, -0.02032470703125, 0.0205841064453125, -0.0002593994140625, -0.035003662109375, 0.01373291015625, 0.037139892578125, -0.0038547515869140625, 0.0012998580932617188, 0.02581787109375, 0.02740478515625, -0.0077972412109375, 0.00597381591796875, 0.01035308837890625, -0.01302337646484375, -0.01546478271484375, 0.03704833984375, 0.007537841796875, 0.002956390380859375, 0.0019073486328125, -0.0072784423828125, 0.053741455078125, 0.0277862548828125, 0.0416259765625, -0.03509521484375, -0.0145263671875, 0.061492919921875, -0.014892578125, -0.0184326171875, -0.006381988525390625, 0.061614990234375, -0.0078277587890625, 0.0679931640625, 0.0284881591796875, 0.009796142578125, 0.056060791015625, 0.0242767333984375, 0.005962371826171875, 0.01175689697265625, 0.03955078125, 0.04620361328125, 0.07647705078125, 0.035552978515625, -0.006847381591796875, -0.007030487060546875, 0.0032329559326171875, -0.007415771484375, -0.0021915435791015625, 0.035003662109375, 0.0330810546875, 0.036285400390625, 0.05133056640625, 0.0307769775390625, -0.022064208984375, -0.028350830078125, 0.033416748046875, 0.05828857421875, -0.01161956787109375, -0.0141754150390625, -0.00394439697265625, -0.001804351806640625, -0.00928497314453125, -0.032135009765625, -0.005157470703125, -0.0214080810546875, -0.0091400146484375, -0.00778961181640625, 0.00778961181640625, -0.0360107421875, -0.038665771484375, -0.03399658203125, -0.0775146484375, -0.0272674560546875, -0.005939483642578125, -0.0086822509765625, 0.028472900390625, -0.0504150390625, 0.008453369140625, -0.0684814453125, -0.043670654296875, -0.0263671875, -0.048065185546875, 0.0361328125, -0.004497528076171875, 0.0313720703125, -0.04376220703125, -8.732080459594727e-05, -0.0072174072265625, 0.02215576171875, -0.0261688232421875, -0.03753662109375, -0.023162841796875, -0.042724609375, 0.0269317626953125, -0.02532958984375, -0.003627777099609375, 0.0179443359375, 0.01221466064453125, -0.046966552734375, 0.037872314453125, 0.038055419921875, -0.04052734375, 0.00679779052734375, -0.05010986328125, 0.016021728515625, 0.060333251953125, -0.00966644287109375, 0.01363372802734375, 0.0298004150390625, -0.0140228271484375, 0.0275421142578125, 0.01015472412109375, -0.003936767578125, -0.0338134765625, 0.060150146484375, 0.035736083984375, 0.001300811767578125, 0.0178985595703125, 0.024139404296875, -0.01219940185546875, -0.03759765625, -0.0212554931640625, -0.0271453857421875, -0.0046234130859375, 0.03369140625, 0.0063323974609375, -0.08282470703125, 0.02374267578125, -0.03515625, -0.04681396484375, 0.00301361083984375, -0.0205230712890625, 0.053009033203125, 0.0199127197265625, -0.0205535888671875, -0.015899658203125, 0.020843505859375, 0.007129669189453125, 0.0211029052734375, 0.0455322265625, -0.030029296875, -0.033355712890625, 0.0546875, 0.010467529296875, 0.012420654296875, -0.029205322265625, -0.01503753662109375, -0.0186614990234375, -0.0181884765625, -0.0082550048828125, 0.023162841796875, -0.026275634765625, 0.041900634765625, 0.020904541015625, 0.02764892578125, -0.0277557373046875, -0.0027942657470703125, 0.03857421875, 0.004009246826171875, 0.008941650390625, 0.017730712890625, 0.032989501953125, 0.005828857421875, -0.0178985595703125, -0.072998046875, -0.035980224609375, 0.015899658203125, 0.013702392578125, -0.0841064453125, 0.03643798828125, -0.045013427734375, 0.01085662841796875, -0.0180511474609375, -0.004398345947265625, -0.034027099609375, 0.0229644775390625, -0.02691650390625, 0.058685302734375, -0.09014892578125, -0.0133056640625, -0.00859832763671875, -0.0225830078125, 0.0626220703125, 0.006389617919921875, 0.0175628662109375, 0.0142059326171875, -0.0201263427734375, -0.038116455078125, -0.0297698974609375, 0.0059814453125, -0.004825592041015625, 0.02728271484375, -0.0045013427734375, -0.08135986328125, -0.06793212890625, 0.031219482421875, 0.016998291015625, 0.0350341796875, 0.0013904571533203125, 0.01543426513671875, -0.0193634033203125, 0.0222015380859375, 0.036590576171875, -0.0716552734375, 0.0066375732421875, -0.0230560302734375, 0.021331787109375, 0.009521484375, 0.0030193328857421875, -0.050628662109375, 0.01219940185546875, -0.054840087890625, 0.0003421306610107422, 0.030029296875, 0.011871337890625, -0.0172576904296875, 0.043670654296875, -0.01021575927734375, -0.02032470703125, -0.04266357421875, -0.029266357421875, -0.037750244140625, 0.0146026611328125, 0.032196044921875, -0.035369873046875, -0.0003039836883544922, -0.021942138671875, 0.042816162109375, 0.059478759765625, -0.007289886474609375, -0.0396728515625, -0.0213470458984375, -0.03485107421875, -0.066162109375, -0.0030670166015625, 0.049072265625, -0.003204345703125, 0.0026645660400390625, -0.03924560546875, 0.03326416015625, -0.005023956298828125, -0.002117156982421875, -0.022735595703125, 0.00249481201171875, 0.00010246038436889648, 0.0477294921875, 0.0232696533203125, -0.0298309326171875, -0.043914794921875, -0.0030384063720703125, -0.09637451171875, 0.03826904296875, -0.032684326171875, 0.001346588134765625, -0.0044403076171875, -0.004100799560546875, 0.01934814453125, 0.031707763671875, -0.041107177734375, -0.0127716064453125, 0.007656097412109375, 0.0232696533203125, -0.0318603515625, -0.0278778076171875, 0.054473876953125, -0.0045013427734375, -0.01097869873046875, 0.039581298828125, -0.021209716796875, -0.0020904541015625, 0.01381683349609375, 0.0032825469970703125, -0.0029048919677734375, 0.04266357421875, -0.0234375, 0.01666259765625, -0.014404296875, -0.0031681060791015625, -0.013580322265625, -0.0294342041015625, 0.031951904296875, -0.00266265869140625, -0.0213775634765625, -0.0677490234375, -0.01468658447265625, -0.027069091796875, -0.0220947265625, 0.0151824951171875, 0.0223388671875, 0.0260162353515625, 0.01322174072265625, -0.01293182373046875, -0.0066375732421875, -0.0089111328125, -0.00872039794921875, -0.041748046875, 0.0012798309326171875, -0.009521484375, 0.03643798828125, -0.0106658935546875, -0.0174102783203125, -0.02435302734375, -0.00643157958984375, -0.01058197021484375, -0.00368499755859375, -0.039642333984375, 0.0189056396484375, -0.0127105712890625, 0.0006313323974609375, -0.00016319751739501953, 0.040283203125, -0.012725830078125, 0.0234832763671875, 0.0416259765625, 0.022003173828125, -0.01166534423828125, 0.003101348876953125, -0.060272216796875, 0.052947998046875, -0.01081085205078125, -0.03814697265625, -0.04400634765625, -0.002727508544921875, -0.0003731250762939453, 0.0301666259765625, 0.039276123046875, -0.04229736328125, -0.02972412109375, -0.035552978515625, -0.015716552734375, -0.0006685256958007812, 0.015899658203125, -0.061309814453125, -0.0279998779296875, 0.01312255859375, 0.037567138671875, -0.002838134765625, 0.01474761962890625, -0.01409912109375, -0.05218505859375, 0.029022216796875, -0.0006656646728515625, 0.004215240478515625, -0.02490234375, 0.0275421142578125, -0.024261474609375, 0.06878662109375, 0.0019588470458984375, 8.785724639892578e-05, 0.017730712890625, -0.0037326812744140625, 0.01003265380859375, 0.022979736328125, -0.0137481689453125, -0.080078125, 0.019317626953125, -0.0125732421875, -0.00925445556640625, 0.0181884765625, -0.06781005859375, 0.018524169921875, -0.031951904296875, 0.0038585662841796875, -0.007904052734375, -0.0163116455078125, -0.046844482421875, -0.0159149169921875, 0.0416259765625, -0.0112457275390625, -0.01971435546875, -0.00762176513671875, 0.0499267578125, 0.047943115234375, 0.018890380859375, -0.040069580078125, -0.01444244384765625, -0.005016326904296875, -0.06634521484375, 0.0224761962890625, 0.0011434555053710938, -0.029510498046875, -0.0372314453125, -0.0088348388671875, 0.069091796875, -0.002353668212890625, 0.047576904296875, 0.0772705078125, 0.01415252685546875, -0.03814697265625, -0.0270233154296875, 0.043670654296875, 0.004329681396484375, -0.0025424957275390625, 0.005794525146484375, -0.0440673828125, -0.026519775390625, -0.0238037109375, -0.038818359375, -0.039093017578125, -0.0298309326171875, -0.0255126953125, 0.050445556640625, -0.0024166107177734375, 0.034576416015625, -0.0355224609375, -0.047271728515625, -0.051422119140625, 0.0271759033203125, 0.058807373046875, 0.0273895263671875, 0.055450439453125, 0.01641845703125, -0.032135009765625, 0.005214691162109375, -0.01617431640625, -0.00507354736328125, -0.0237274169921875, 0.044952392578125, 0.0179901123046875, -0.0174713134765625, 0.0494384765625, 0.039764404296875, -0.0919189453125, -0.04638671875, -0.0007829666137695312, 0.00458526611328125, -0.0181427001953125, -0.03265380859375, -0.0209503173828125, -0.04815673828125, 0.0008230209350585938, 0.0031280517578125, 0.0016231536865234375, -0.0095062255859375, 0.0228118896484375, -0.0306549072265625, -0.00518798828125, -0.0144195556640625, -0.0198822021484375, 0.037445068359375, -0.033355712890625, 0.018707275390625, -0.045013427734375, -0.01290130615234375, -0.005859375, 0.00455474853515625, 0.0215301513671875, -0.008056640625, -0.00885772705078125, 0.027374267578125, 0.005527496337890625, 0.06878662109375, -0.00847625732421875, -0.005336761474609375, 0.046966552734375, -0.0248565673828125, -0.045623779296875, -0.031829833984375, 0.0038623809814453125, 0.0204010009765625, 0.017547607421875, -0.06231689453125, -0.0089569091796875, 0.048736572265625, -0.00031113624572753906, 0.034881591796875, -0.01157379150390625, -0.075927734375, -0.03314208984375, -0.0174102783203125, 0.0126800537109375, -0.0322265625, -0.001331329345703125, 0.056976318359375, 0.0122833251953125, 0.0170440673828125, -0.00579833984375, 0.0361328125, 0.0019073486328125, -0.001804351806640625, -0.039031982421875, 0.0158233642578125, 0.0111083984375, -0.01861572265625, -0.009033203125, -0.03448486328125, -0.0307464599609375, 0.00951385498046875, -0.03546142578125, -0.01424407958984375, -0.0108642578125, 0.03271484375, 0.00846099853515625, 0.019500732421875, -0.0182952880859375, -0.0235748291015625, 0.02703857421875, 0.034088134765625, -0.01300048828125, 2.9027462005615234e-05, 0.0160064697265625, -0.02374267578125, -0.00780487060546875, -0.0201263427734375, -0.01654052734375, -0.041015625, 0.0305328369140625, 0.041168212890625, -0.0024585723876953125, -0.01184844970703125, -0.04388427734375, -0.04345703125, -0.04248046875, -0.0081787109375, -0.0286712646484375, -0.00775146484375, 0.0177459716796875, -0.00482177734375, -0.01197052001953125, 0.038665771484375, 0.0029315948486328125, 0.04376220703125, -0.0263519287109375, 0.027313232421875, 0.007007598876953125, -0.0110015869140625, 0.048614501953125, 0.0261993408203125, 0.01004791259765625, 0.02685546875, -0.0155181884765625, -0.00859832763671875, -0.01026153564453125, 0.0029163360595703125, -0.031402587890625, -0.00548553466796875, 0.044219970703125, 0.030242919921875, 0.0059051513671875, 0.033538818359375, 0.026092529296875, -0.009735107421875, 0.0472412109375, -0.0001550912857055664, -0.06561279296875, 0.0005249977111816406, -0.061065673828125, -0.033294677734375, 0.00325775146484375, 0.00803375244140625, -0.00839996337890625, 0.024444580078125, -0.0506591796875, 0.0007481575012207031, 0.0196380615234375, 0.01427459716796875, -0.0189971923828125, 0.00461578369140625, 0.0002846717834472656, 0.033782958984375, 0.006103515625, -0.0181884765625, 0.0072021484375, 0.057586669921875, -0.0499267578125, -0.038848876953125, -0.01529693603515625, -0.0134429931640625, 0.03533935546875, 0.039093017578125, -0.041961669921875, 0.0035037994384765625, -0.040008544921875, -0.0026798248291015625, 0.0240020751953125, -0.004924774169921875, -0.039703369140625, 0.01093292236328125, -0.0266876220703125, 0.03460693359375, 0.0197906494140625, 0.026123046875, 0.005420684814453125, -0.0132293701171875, -0.0249176025390625, 0.018768310546875, 0.015533447265625, -0.02288818359375, 0.0261077880859375, 0.0095977783203125, 0.0242462158203125, 0.0024318695068359375, -0.006092071533203125, -0.0005712509155273438, 0.060211181640625, 0.00844573974609375, 0.04168701171875, 0.0189208984375, 0.01023101806640625, 0.0606689453125, -0.029571533203125, -0.01055145263671875, 0.005764007568359375, -0.00820159912109375, 0.01410675048828125, 0.0147705078125, -0.03778076171875, 0.0174713134765625, 0.023651123046875, -0.00824737548828125, 0.0067291259765625, -0.04620361328125, -0.0075531005859375, -0.04400634765625, -0.01500701904296875, 0.047119140625, -0.0206756591796875, 0.005863189697265625, -0.0269775390625, 0.0265350341796875, 0.003814697265625, 0.036163330078125, -0.046783447265625, -0.01305389404296875, 0.0293731689453125, 0.0090484619140625, -0.00836944580078125, 0.0279541015625, -0.0014896392822265625, 0.0177154541015625, -0.03900146484375, -0.0034999847412109375, 0.035308837890625, -0.0005574226379394531, 0.0040130615234375, -0.021697998046875, -0.05303955078125, 0.044921875, 0.0224609375, -0.01800537109375, 0.038543701171875, -0.03271484375, 0.01507568359375, -0.053466796875, 0.0472412109375, -0.046478271484375, 0.0198211669921875, 0.01934814453125, -0.0023326873779296875, -0.029998779296875, 0.0382080078125, 0.0014781951904296875, 0.01702880859375, 0.0115814208984375, 0.06298828125, 0.0288848876953125, 0.0711669921875, 0.035675048828125, -0.0186767578125, -0.005771636962890625, 0.00534820556640625, -0.035736083984375, -0.025177001953125, -0.004383087158203125, -0.0297393798828125, 0.02471923828125, -0.01158905029296875, -0.0179290771484375, -0.0235595703125, 0.019287109375, -0.020599365234375, -0.043121337890625, -0.005756378173828125, 0.0377197265625, -0.04302978515625, 0.007007598876953125, 0.03631591796875, 0.059417724609375, 0.057830810546875, -0.03460693359375, -0.0216522216796875, 0.038970947265625, 0.01322174072265625, -0.01171112060546875, 0.058319091796875, 0.00835418701171875, -0.0308990478515625, -0.036346435546875, -0.03387451171875, -0.0061187744140625, 0.011322021484375, 0.005077362060546875, -0.0369873046875, 0.0255279541015625, 0.031585693359375, -0.0015096664428710938, 0.024322509765625, -0.0587158203125, -0.0029773712158203125, -0.0006990432739257812, 0.029296875, -0.01528167724609375, 0.0576171875, 0.034576416015625, -0.004810333251953125, 0.0105743408203125, -0.0255889892578125, 0.01181793212890625, 0.0149078369140625, -0.0286865234375, -0.0020904541015625, 0.00234222412109375, -0.029327392578125, -0.002956390380859375, 0.0299072265625, 0.04949951171875, -0.03668212890625, 0.00691986083984375, -0.09429931640625, -0.036224365234375, -0.0183868408203125, -0.025177001953125, -0.03643798828125, 0.055023193359375, -0.0301361083984375, -0.016510009765625, 0.0156097412109375, -0.07000732421875, 0.265380859375, -0.00261688232421875, 0.00815582275390625, -0.034881591796875, 0.0159454345703125, 0.04986572265625, 0.0300750732421875, -0.029876708984375, -0.006221771240234375, 0.037994384765625, 0.0118408203125, -0.004421234130859375, 0.0169525146484375, 0.01172637939453125, 0.021820068359375, 0.0287933349609375, -0.022613525390625, -0.0006375312805175781, 0.04241943359375, -0.040496826171875, -0.0269012451171875, -0.00252532958984375, -0.0006785392761230469, 0.024993896484375, 0.0031948089599609375, 0.0011806488037109375, 0.02593994140625, -0.046173095703125, 0.006103515625, -0.005588531494140625, 0.05767822265625, -0.005512237548828125, 0.0264739990234375, 0.005573272705078125, -0.0253143310546875, 0.042816162109375, 0.02508544921875, -0.01367950439453125, -0.01300811767578125, -0.011688232421875, 0.002490997314453125, 0.016754150390625, 0.065185546875, -0.009124755859375, -0.04046630859375, 0.03411865234375, -0.037872314453125, 0.057159423828125, 0.0208892822265625, -0.030487060546875, 0.04425048828125, -0.01389312744140625, 0.0733642578125, -0.00665283203125, -0.0789794921875, 0.0016632080078125, 0.016754150390625, -0.020538330078125, -0.03759765625, 0.0159759521484375, -0.0017938613891601562, -0.003047943115234375, 0.005645751953125, 0.0032215118408203125, -0.049468994140625, 0.00762176513671875, 0.048583984375, 0.0183563232421875, 0.0095672607421875, -0.0100250244140625, 0.01245880126953125, 0.0168609619140625, -0.017974853515625, -0.0244140625, 0.0149383544921875, 0.0292205810546875, -0.033447265625, 0.03131103515625, 0.0004668235778808594, -0.0259552001953125, -0.0065765380859375, -0.026519775390625, -0.00444793701171875, 0.018463134765625, 0.02490234375, 0.03778076171875, -0.018310546875, -0.01067352294921875, -0.054656982421875, 0.0247344970703125, 0.0286865234375, 0.0035991668701171875, 0.0183258056640625, 0.00888824462890625, -0.0206451416015625]]\n"
     ]
    }
   ],
   "source": [
    "from databricks_genai_inference import Embedding\n",
    "embedding_response = Embedding.create(\n",
    "    model =\"databricks-bge-large-en\",\n",
    "    input = \"This is a test\"\n",
    ")\n",
    "print(embedding_response.embeddings)"
   ]
  },
  {
   "cell_type": "markdown",
   "metadata": {
    "application/vnd.databricks.v1+cell": {
     "cellMetadata": {},
     "inputWidgets": {},
     "nuid": "08ac3ae6-f893-4407-9030-472e4b67facd",
     "showTitle": false,
     "tableResultSettingsMap": {},
     "title": ""
    }
   },
   "source": [
    "### **Prompt Engineering with the API**"
   ]
  },
  {
   "cell_type": "code",
   "execution_count": 0,
   "metadata": {
    "application/vnd.databricks.v1+cell": {
     "cellMetadata": {
      "byteLimit": 2048000,
      "rowLimit": 10000
     },
     "inputWidgets": {},
     "nuid": "f72d077b-7954-4ab7-84c7-025f2c13fe18",
     "showTitle": false,
     "tableResultSettingsMap": {},
     "title": ""
    }
   },
   "outputs": [],
   "source": [
    "system_prompt = \"You are a pirate\"\n",
    "user_prompt = \"What is databricks\""
   ]
  },
  {
   "cell_type": "code",
   "execution_count": 0,
   "metadata": {
    "application/vnd.databricks.v1+cell": {
     "cellMetadata": {
      "byteLimit": 2048000,
      "rowLimit": 10000
     },
     "inputWidgets": {},
     "nuid": "7afbdd27-2f3f-437e-8b3c-8d77a9ec606e",
     "showTitle": false,
     "tableResultSettingsMap": {},
     "title": ""
    }
   },
   "outputs": [
    {
     "output_type": "stream",
     "name": "stdout",
     "output_type": "stream",
     "text": [
      "Chat_response: Yer want ta know about Databricks, eh? Alright then, matey! *puffs on pipe*\n\nDatabricks be a cloud-based platform that helps swashbucklers like yerself navigate the seven seas... of data! It's a treasure trove of tools and technologies designed ta make workin' with big data a breeze.\n\nHere be some o' the key features o' Databricks:\n\n1. **Apache Spark**: Databricks be built on top o' Apache Spark, a powerful open-source data processin' engine that can handle massive amounts o' data. It's like havin' a trusty cutlass by yer side, slicin' through data like a pro!\n2. **Data Engineering**: Databricks provides a collaborative workspace fer data engineers ta work on buildin', deployin', and managin' data pipelines. It's like havin' a sturdy ship ta sail the data seas!\n3. **Machine Learnin'**: With Databricks, ye can build, train, and deploy machine learnin' models ta gain insights from yer data. It's like havin' a trusty parrot on yer shoulder, squawkin' out predictions and recommendations!\n4. **Real-time Analytics**: Databricks allows ye ta analyze and visualize data in real-time, like havin' a magical spyglass that shows ye the hidden treasures in yer data!\n5. **Security and Governance**: Databricks provides robust security and governance features ta keep yer data safe from scurvy dogs and ensure ye stay in compliance with regulations. It's like havin' a loyal first mate keepin' watch over yer treasure!\n\nSo hoist the colors, me hearty! If ye be needin' ta tame the beast o' big data, Databricks be a mighty fine choice!\n"
     ]
    }
   ],
   "source": [
    "chat_response = ChatCompletion.create(\n",
    "    model=\"databricks-meta-llama-3-1-405b-instruct\",\n",
    "    messages=[{\"role\": \"system\", \"content\": system_prompt},\n",
    "              {\"role\": \"user\", \"content\": user_prompt}]\n",
    ")\n",
    "print(f\"Chat_response: {chat_response.message}\")"
   ]
  },
  {
   "cell_type": "code",
   "execution_count": 0,
   "metadata": {
    "application/vnd.databricks.v1+cell": {
     "cellMetadata": {
      "byteLimit": 2048000,
      "rowLimit": 10000
     },
     "inputWidgets": {},
     "nuid": "ca6c3df8-a9fe-45eb-a7c4-06fd63ce0c11",
     "showTitle": false,
     "tableResultSettingsMap": {},
     "title": ""
    }
   },
   "outputs": [
    {
     "output_type": "stream",
     "name": "stdout",
     "output_type": "stream",
     "text": [
      "Collecting mlflow>=3.0\n  Downloading mlflow-3.4.0-py3-none-any.whl.metadata (30 kB)\nCollecting mlflow-skinny==3.4.0 (from mlflow>=3.0)\n  Downloading mlflow_skinny-3.4.0-py3-none-any.whl.metadata (31 kB)\nCollecting mlflow-tracing==3.4.0 (from mlflow>=3.0)\n  Downloading mlflow_tracing-3.4.0-py3-none-any.whl.metadata (19 kB)\nCollecting Flask<4 (from mlflow>=3.0)\n  Downloading flask-3.1.2-py3-none-any.whl.metadata (3.2 kB)\nCollecting alembic!=1.10.0,<2 (from mlflow>=3.0)\n  Downloading alembic-1.16.5-py3-none-any.whl.metadata (7.3 kB)\nCollecting cryptography<46,>=43.0.0 (from mlflow>=3.0)\n  Downloading cryptography-45.0.7-cp311-abi3-manylinux_2_34_aarch64.whl.metadata (5.7 kB)\nCollecting docker<8,>=4.0.0 (from mlflow>=3.0)\n  Downloading docker-7.1.0-py3-none-any.whl.metadata (3.8 kB)\nCollecting fastmcp<3,>=2.0.0 (from mlflow>=3.0)\n  Downloading fastmcp-2.12.3-py3-none-any.whl.metadata (17 kB)\nCollecting graphene<4 (from mlflow>=3.0)\n  Downloading graphene-3.4.3-py2.py3-none-any.whl.metadata (6.9 kB)\nCollecting gunicorn<24 (from mlflow>=3.0)\n  Downloading gunicorn-23.0.0-py3-none-any.whl.metadata (4.4 kB)\nRequirement already satisfied: matplotlib<4 in /databricks/python3/lib/python3.12/site-packages (from mlflow>=3.0) (3.8.4)\nRequirement already satisfied: numpy<3 in /databricks/python3/lib/python3.12/site-packages (from mlflow>=3.0) (1.26.4)\nRequirement already satisfied: pandas<3 in /databricks/python3/lib/python3.12/site-packages (from mlflow>=3.0) (1.5.3)\nRequirement already satisfied: pyarrow<22,>=4.0.0 in /databricks/python3/lib/python3.12/site-packages (from mlflow>=3.0) (15.0.2)\nRequirement already satisfied: scikit-learn<2 in /databricks/python3/lib/python3.12/site-packages (from mlflow>=3.0) (1.4.2)\nRequirement already satisfied: scipy<2 in /databricks/python3/lib/python3.12/site-packages (from mlflow>=3.0) (1.13.1)\nCollecting sqlalchemy<3,>=1.4.0 (from mlflow>=3.0)\n  Downloading sqlalchemy-2.0.43-cp312-cp312-manylinux_2_17_aarch64.manylinux2014_aarch64.whl.metadata (9.6 kB)\nRequirement already satisfied: cachetools<7,>=5.0.0 in /databricks/python3/lib/python3.12/site-packages (from mlflow-skinny==3.4.0->mlflow>=3.0) (5.3.3)\nRequirement already satisfied: click<9,>=7.0 in /databricks/python3/lib/python3.12/site-packages (from mlflow-skinny==3.4.0->mlflow>=3.0) (8.1.7)\nRequirement already satisfied: cloudpickle<4 in /databricks/python3/lib/python3.12/site-packages (from mlflow-skinny==3.4.0->mlflow>=3.0) (3.0.0)\nCollecting databricks-sdk<1,>=0.20.0 (from mlflow-skinny==3.4.0->mlflow>=3.0)\n  Downloading databricks_sdk-0.66.0-py3-none-any.whl.metadata (39 kB)\nRequirement already satisfied: fastapi<1 in /databricks/python3/lib/python3.12/site-packages (from mlflow-skinny==3.4.0->mlflow>=3.0) (0.115.12)\nRequirement already satisfied: gitpython<4,>=3.1.9 in /databricks/python3/lib/python3.12/site-packages (from mlflow-skinny==3.4.0->mlflow>=3.0) (3.1.37)\nRequirement already satisfied: importlib_metadata!=4.7.0,<9,>=3.7.0 in /databricks/python3/lib/python3.12/site-packages (from mlflow-skinny==3.4.0->mlflow>=3.0) (7.0.1)\nRequirement already satisfied: opentelemetry-api<3,>=1.9.0 in /databricks/python3/lib/python3.12/site-packages (from mlflow-skinny==3.4.0->mlflow>=3.0) (1.31.1)\nCollecting opentelemetry-proto<3,>=1.9.0 (from mlflow-skinny==3.4.0->mlflow>=3.0)\n  Downloading opentelemetry_proto-1.37.0-py3-none-any.whl.metadata (2.3 kB)\nRequirement already satisfied: opentelemetry-sdk<3,>=1.9.0 in /databricks/python3/lib/python3.12/site-packages (from mlflow-skinny==3.4.0->mlflow>=3.0) (1.31.1)\nRequirement already satisfied: packaging<26 in /databricks/python3/lib/python3.12/site-packages (from mlflow-skinny==3.4.0->mlflow>=3.0) (24.1)\nRequirement already satisfied: protobuf<7,>=3.12.0 in /databricks/python3/lib/python3.12/site-packages (from mlflow-skinny==3.4.0->mlflow>=3.0) (5.29.4)\nRequirement already satisfied: pydantic<3,>=1.10.8 in /databricks/python3/lib/python3.12/site-packages (from mlflow-skinny==3.4.0->mlflow>=3.0) (2.8.2)\nCollecting python-dotenv<2,>=0.19.0 (from mlflow-skinny==3.4.0->mlflow>=3.0)\n  Downloading python_dotenv-1.1.1-py3-none-any.whl.metadata (24 kB)\nRequirement already satisfied: pyyaml<7,>=5.1 in /databricks/python3/lib/python3.12/site-packages (from mlflow-skinny==3.4.0->mlflow>=3.0) (6.0.1)\nRequirement already satisfied: requests<3,>=2.17.3 in /databricks/python3/lib/python3.12/site-packages (from mlflow-skinny==3.4.0->mlflow>=3.0) (2.32.2)\nRequirement already satisfied: sqlparse<1,>=0.4.0 in /databricks/python3/lib/python3.12/site-packages (from mlflow-skinny==3.4.0->mlflow>=3.0) (0.5.3)\nRequirement already satisfied: typing-extensions<5,>=4.0.0 in /databricks/python3/lib/python3.12/site-packages (from mlflow-skinny==3.4.0->mlflow>=3.0) (4.11.0)\nRequirement already satisfied: uvicorn<1 in /databricks/python3/lib/python3.12/site-packages (from mlflow-skinny==3.4.0->mlflow>=3.0) (0.34.0)\nCollecting Mako (from alembic!=1.10.0,<2->mlflow>=3.0)\n  Downloading mako-1.3.10-py3-none-any.whl.metadata (2.9 kB)\nCollecting typing-extensions<5,>=4.0.0 (from mlflow-skinny==3.4.0->mlflow>=3.0)\n  Downloading typing_extensions-4.15.0-py3-none-any.whl.metadata (3.3 kB)\nRequirement already satisfied: cffi>=1.14 in /databricks/python3/lib/python3.12/site-packages (from cryptography<46,>=43.0.0->mlflow>=3.0) (1.16.0)\nRequirement already satisfied: urllib3>=1.26.0 in /databricks/python3/lib/python3.12/site-packages (from docker<8,>=4.0.0->mlflow>=3.0) (2.2.2)\nCollecting authlib>=1.5.2 (from fastmcp<3,>=2.0.0->mlflow>=3.0)\n  Downloading authlib-1.6.4-py2.py3-none-any.whl.metadata (9.8 kB)\nCollecting cyclopts>=3.0.0 (from fastmcp<3,>=2.0.0->mlflow>=3.0)\n  Downloading cyclopts-3.24.0-py3-none-any.whl.metadata (11 kB)\nCollecting exceptiongroup>=1.2.2 (from fastmcp<3,>=2.0.0->mlflow>=3.0)\n  Downloading exceptiongroup-1.3.0-py3-none-any.whl.metadata (6.7 kB)\nRequirement already satisfied: httpx>=0.28.1 in /local_disk0/.ephemeral_nfs/envs/pythonEnv-95b31a76-ab3a-4378-a703-6d4bb58d9e9a/lib/python3.12/site-packages (from fastmcp<3,>=2.0.0->mlflow>=3.0) (0.28.1)\nCollecting mcp<2.0.0,>=1.12.4 (from fastmcp<3,>=2.0.0->mlflow>=3.0)\n  Downloading mcp-1.14.1-py3-none-any.whl.metadata (75 kB)\nCollecting openapi-core>=0.19.5 (from fastmcp<3,>=2.0.0->mlflow>=3.0)\n  Downloading openapi_core-0.19.5-py3-none-any.whl.metadata (6.6 kB)\nCollecting openapi-pydantic>=0.5.1 (from fastmcp<3,>=2.0.0->mlflow>=3.0)\n  Downloading openapi_pydantic-0.5.1-py3-none-any.whl.metadata (10 kB)\nCollecting pydantic<3,>=1.10.8 (from mlflow-skinny==3.4.0->mlflow>=3.0)\n  Downloading pydantic-2.11.9-py3-none-any.whl.metadata (68 kB)\nCollecting pyperclip>=1.9.0 (from fastmcp<3,>=2.0.0->mlflow>=3.0)\n  Downloading pyperclip-1.10.0-py3-none-any.whl.metadata (2.4 kB)\nCollecting rich>=13.9.4 (from fastmcp<3,>=2.0.0->mlflow>=3.0)\n  Downloading rich-14.1.0-py3-none-any.whl.metadata (18 kB)\nCollecting blinker>=1.9.0 (from Flask<4->mlflow>=3.0)\n  Downloading blinker-1.9.0-py3-none-any.whl.metadata (1.6 kB)\nCollecting itsdangerous>=2.2.0 (from Flask<4->mlflow>=3.0)\n  Downloading itsdangerous-2.2.0-py3-none-any.whl.metadata (1.9 kB)\nCollecting jinja2>=3.1.2 (from Flask<4->mlflow>=3.0)\n  Downloading jinja2-3.1.6-py3-none-any.whl.metadata (2.9 kB)\nCollecting markupsafe>=2.1.1 (from Flask<4->mlflow>=3.0)\n  Downloading MarkupSafe-3.0.2-cp312-cp312-manylinux_2_17_aarch64.manylinux2014_aarch64.whl.metadata (4.0 kB)\nCollecting werkzeug>=3.1.0 (from Flask<4->mlflow>=3.0)\n  Downloading werkzeug-3.1.3-py3-none-any.whl.metadata (3.7 kB)\nCollecting graphql-core<3.3,>=3.1 (from graphene<4->mlflow>=3.0)\n  Downloading graphql_core-3.2.6-py3-none-any.whl.metadata (11 kB)\nCollecting graphql-relay<3.3,>=3.1 (from graphene<4->mlflow>=3.0)\n  Downloading graphql_relay-3.2.0-py3-none-any.whl.metadata (12 kB)\nRequirement already satisfied: python-dateutil<3,>=2.7.0 in /databricks/python3/lib/python3.12/site-packages (from graphene<4->mlflow>=3.0) (2.9.0.post0)\nRequirement already satisfied: contourpy>=1.0.1 in /databricks/python3/lib/python3.12/site-packages (from matplotlib<4->mlflow>=3.0) (1.2.0)\nRequirement already satisfied: cycler>=0.10 in /databricks/python3/lib/python3.12/site-packages (from matplotlib<4->mlflow>=3.0) (0.11.0)\nRequirement already satisfied: fonttools>=4.22.0 in /databricks/python3/lib/python3.12/site-packages (from matplotlib<4->mlflow>=3.0) (4.51.0)\nRequirement already satisfied: kiwisolver>=1.3.1 in /databricks/python3/lib/python3.12/site-packages (from matplotlib<4->mlflow>=3.0) (1.4.4)\nRequirement already satisfied: pillow>=8 in /databricks/python3/lib/python3.12/site-packages (from matplotlib<4->mlflow>=3.0) (10.3.0)\nRequirement already satisfied: pyparsing>=2.3.1 in /databricks/python3/lib/python3.12/site-packages (from matplotlib<4->mlflow>=3.0) (3.0.9)\nRequirement already satisfied: pytz>=2020.1 in /databricks/python3/lib/python3.12/site-packages (from pandas<3->mlflow>=3.0) (2024.1)\nRequirement already satisfied: joblib>=1.2.0 in /databricks/python3/lib/python3.12/site-packages (from scikit-learn<2->mlflow>=3.0) (1.4.2)\nRequirement already satisfied: threadpoolctl>=2.0.0 in /databricks/python3/lib/python3.12/site-packages (from scikit-learn<2->mlflow>=3.0) (2.2.0)\nCollecting greenlet>=1 (from sqlalchemy<3,>=1.4.0->mlflow>=3.0)\n  Downloading greenlet-3.2.4-cp312-cp312-manylinux2014_aarch64.manylinux_2_17_aarch64.whl.metadata (4.1 kB)\nRequirement already satisfied: pycparser in /databricks/python3/lib/python3.12/site-packages (from cffi>=1.14->cryptography<46,>=43.0.0->mlflow>=3.0) (2.21)\nCollecting attrs>=23.1.0 (from cyclopts>=3.0.0->fastmcp<3,>=2.0.0->mlflow>=3.0)\n  Downloading attrs-25.3.0-py3-none-any.whl.metadata (10 kB)\nCollecting docstring-parser>=0.15 (from cyclopts>=3.0.0->fastmcp<3,>=2.0.0->mlflow>=3.0)\n  Downloading docstring_parser-0.17.0-py3-none-any.whl.metadata (3.5 kB)\nCollecting rich-rst<2.0.0,>=1.3.1 (from cyclopts>=3.0.0->fastmcp<3,>=2.0.0->mlflow>=3.0)\n  Downloading rich_rst-1.3.1-py3-none-any.whl.metadata (6.0 kB)\nRequirement already satisfied: google-auth~=2.0 in /databricks/python3/lib/python3.12/site-packages (from databricks-sdk<1,>=0.20.0->mlflow-skinny==3.4.0->mlflow>=3.0) (2.38.0)\nRequirement already satisfied: starlette<0.47.0,>=0.40.0 in /databricks/python3/lib/python3.12/site-packages (from fastapi<1->mlflow-skinny==3.4.0->mlflow>=3.0) (0.46.1)\nRequirement already satisfied: gitdb<5,>=4.0.1 in /databricks/python3/lib/python3.12/site-packages (from gitpython<4,>=3.1.9->mlflow-skinny==3.4.0->mlflow>=3.0) (4.0.11)\nRequirement already satisfied: anyio in /databricks/python3/lib/python3.12/site-packages (from httpx>=0.28.1->fastmcp<3,>=2.0.0->mlflow>=3.0) (4.2.0)\nRequirement already satisfied: certifi in /databricks/python3/lib/python3.12/site-packages (from httpx>=0.28.1->fastmcp<3,>=2.0.0->mlflow>=3.0) (2024.6.2)\nRequirement already satisfied: httpcore==1.* in /local_disk0/.ephemeral_nfs/envs/pythonEnv-95b31a76-ab3a-4378-a703-6d4bb58d9e9a/lib/python3.12/site-packages (from httpx>=0.28.1->fastmcp<3,>=2.0.0->mlflow>=3.0) (1.0.9)\nRequirement already satisfied: idna in /databricks/python3/lib/python3.12/site-packages (from httpx>=0.28.1->fastmcp<3,>=2.0.0->mlflow>=3.0) (3.7)\nRequirement already satisfied: h11>=0.16 in /local_disk0/.ephemeral_nfs/envs/pythonEnv-95b31a76-ab3a-4378-a703-6d4bb58d9e9a/lib/python3.12/site-packages (from httpcore==1.*->httpx>=0.28.1->fastmcp<3,>=2.0.0->mlflow>=3.0) (0.16.0)\nRequirement already satisfied: zipp>=0.5 in /databricks/python3/lib/python3.12/site-packages (from importlib_metadata!=4.7.0,<9,>=3.7.0->mlflow-skinny==3.4.0->mlflow>=3.0) (3.17.0)\nCollecting anyio (from httpx>=0.28.1->fastmcp<3,>=2.0.0->mlflow>=3.0)\n  Downloading anyio-4.11.0-py3-none-any.whl.metadata (4.1 kB)\nCollecting httpx-sse>=0.4 (from mcp<2.0.0,>=1.12.4->fastmcp<3,>=2.0.0->mlflow>=3.0)\n  Downloading httpx_sse-0.4.1-py3-none-any.whl.metadata (9.4 kB)\nCollecting jsonschema>=4.20.0 (from mcp<2.0.0,>=1.12.4->fastmcp<3,>=2.0.0->mlflow>=3.0)\n  Downloading jsonschema-4.25.1-py3-none-any.whl.metadata (7.6 kB)\nCollecting pydantic-settings>=2.5.2 (from mcp<2.0.0,>=1.12.4->fastmcp<3,>=2.0.0->mlflow>=3.0)\n  Downloading pydantic_settings-2.10.1-py3-none-any.whl.metadata (3.4 kB)\nCollecting python-multipart>=0.0.9 (from mcp<2.0.0,>=1.12.4->fastmcp<3,>=2.0.0->mlflow>=3.0)\n  Downloading python_multipart-0.0.20-py3-none-any.whl.metadata (1.8 kB)\nCollecting sse-starlette>=1.6.1 (from mcp<2.0.0,>=1.12.4->fastmcp<3,>=2.0.0->mlflow>=3.0)\n  Downloading sse_starlette-3.0.2-py3-none-any.whl.metadata (11 kB)\nRequirement already satisfied: isodate in /databricks/python3/lib/python3.12/site-packages (from openapi-core>=0.19.5->fastmcp<3,>=2.0.0->mlflow>=3.0) (0.7.2)\nCollecting jsonschema-path<0.4.0,>=0.3.1 (from openapi-core>=0.19.5->fastmcp<3,>=2.0.0->mlflow>=3.0)\n  Downloading jsonschema_path-0.3.4-py3-none-any.whl.metadata (4.3 kB)\nCollecting more-itertools (from openapi-core>=0.19.5->fastmcp<3,>=2.0.0->mlflow>=3.0)\n  Downloading more_itertools-10.8.0-py3-none-any.whl.metadata (39 kB)\nCollecting openapi-schema-validator<0.7.0,>=0.6.0 (from openapi-core>=0.19.5->fastmcp<3,>=2.0.0->mlflow>=3.0)\n  Downloading openapi_schema_validator-0.6.3-py3-none-any.whl.metadata (5.4 kB)\nCollecting openapi-spec-validator<0.8.0,>=0.7.1 (from openapi-core>=0.19.5->fastmcp<3,>=2.0.0->mlflow>=3.0)\n  Downloading openapi_spec_validator-0.7.2-py3-none-any.whl.metadata (5.7 kB)\nCollecting parse (from openapi-core>=0.19.5->fastmcp<3,>=2.0.0->mlflow>=3.0)\n  Downloading parse-1.20.2-py2.py3-none-any.whl.metadata (22 kB)\nCollecting werkzeug>=3.1.0 (from Flask<4->mlflow>=3.0)\n  Downloading werkzeug-3.1.1-py3-none-any.whl.metadata (3.7 kB)\nRequirement already satisfied: deprecated>=1.2.6 in /databricks/python3/lib/python3.12/site-packages (from opentelemetry-api<3,>=1.9.0->mlflow-skinny==3.4.0->mlflow>=3.0) (1.2.18)\nRequirement already satisfied: opentelemetry-semantic-conventions==0.52b1 in /databricks/python3/lib/python3.12/site-packages (from opentelemetry-sdk<3,>=1.9.0->mlflow-skinny==3.4.0->mlflow>=3.0) (0.52b1)\nRequirement already satisfied: annotated-types>=0.6.0 in /databricks/python3/lib/python3.12/site-packages (from pydantic<3,>=1.10.8->mlflow-skinny==3.4.0->mlflow>=3.0) (0.7.0)\nCollecting pydantic-core==2.33.2 (from pydantic<3,>=1.10.8->mlflow-skinny==3.4.0->mlflow>=3.0)\n  Downloading pydantic_core-2.33.2-cp312-cp312-manylinux_2_17_aarch64.manylinux2014_aarch64.whl.metadata (6.8 kB)\nCollecting typing-inspection>=0.4.0 (from pydantic<3,>=1.10.8->mlflow-skinny==3.4.0->mlflow>=3.0)\n  Downloading typing_inspection-0.4.1-py3-none-any.whl.metadata (2.6 kB)\nCollecting email-validator>=2.0.0 (from pydantic[email]>=2.11.7->fastmcp<3,>=2.0.0->mlflow>=3.0)\n  Downloading email_validator-2.3.0-py3-none-any.whl.metadata (26 kB)\nRequirement already satisfied: six>=1.5 in /usr/lib/python3/dist-packages (from python-dateutil<3,>=2.7.0->graphene<4->mlflow>=3.0) (1.16.0)\nRequirement already satisfied: charset-normalizer<4,>=2 in /databricks/python3/lib/python3.12/site-packages (from requests<3,>=2.17.3->mlflow-skinny==3.4.0->mlflow>=3.0) (2.0.4)\nCollecting markdown-it-py>=2.2.0 (from rich>=13.9.4->fastmcp<3,>=2.0.0->mlflow>=3.0)\n  Downloading markdown_it_py-4.0.0-py3-none-any.whl.metadata (7.3 kB)\nRequirement already satisfied: pygments<3.0.0,>=2.13.0 in /databricks/python3/lib/python3.12/site-packages (from rich>=13.9.4->fastmcp<3,>=2.0.0->mlflow>=3.0) (2.15.1)\nRequirement already satisfied: sniffio>=1.1 in /databricks/python3/lib/python3.12/site-packages (from anyio->httpx>=0.28.1->fastmcp<3,>=2.0.0->mlflow>=3.0) (1.3.0)\nRequirement already satisfied: wrapt<2,>=1.10 in /databricks/python3/lib/python3.12/site-packages (from deprecated>=1.2.6->opentelemetry-api<3,>=1.9.0->mlflow-skinny==3.4.0->mlflow>=3.0) (1.14.1)\nCollecting dnspython>=2.0.0 (from email-validator>=2.0.0->pydantic[email]>=2.11.7->fastmcp<3,>=2.0.0->mlflow>=3.0)\n  Downloading dnspython-2.8.0-py3-none-any.whl.metadata (5.7 kB)\nRequirement already satisfied: smmap<6,>=3.0.1 in /databricks/python3/lib/python3.12/site-packages (from gitdb<5,>=4.0.1->gitpython<4,>=3.1.9->mlflow-skinny==3.4.0->mlflow>=3.0) (5.0.0)\nRequirement already satisfied: pyasn1-modules>=0.2.1 in /databricks/python3/lib/python3.12/site-packages (from google-auth~=2.0->databricks-sdk<1,>=0.20.0->mlflow-skinny==3.4.0->mlflow>=3.0) (0.2.8)\nRequirement already satisfied: rsa<5,>=3.1.4 in /databricks/python3/lib/python3.12/site-packages (from google-auth~=2.0->databricks-sdk<1,>=0.20.0->mlflow-skinny==3.4.0->mlflow>=3.0) (4.9)\nCollecting jsonschema-specifications>=2023.03.6 (from jsonschema>=4.20.0->mcp<2.0.0,>=1.12.4->fastmcp<3,>=2.0.0->mlflow>=3.0)\n  Downloading jsonschema_specifications-2025.9.1-py3-none-any.whl.metadata (2.9 kB)\nCollecting referencing>=0.28.4 (from jsonschema>=4.20.0->mcp<2.0.0,>=1.12.4->fastmcp<3,>=2.0.0->mlflow>=3.0)\n  Downloading referencing-0.36.2-py3-none-any.whl.metadata (2.8 kB)\nCollecting rpds-py>=0.7.1 (from jsonschema>=4.20.0->mcp<2.0.0,>=1.12.4->fastmcp<3,>=2.0.0->mlflow>=3.0)\n  Downloading rpds_py-0.27.1-cp312-cp312-manylinux_2_17_aarch64.manylinux2014_aarch64.whl.metadata (4.2 kB)\nCollecting pathable<0.5.0,>=0.4.1 (from jsonschema-path<0.4.0,>=0.3.1->openapi-core>=0.19.5->fastmcp<3,>=2.0.0->mlflow>=3.0)\n  Downloading pathable-0.4.4-py3-none-any.whl.metadata (1.8 kB)\nCollecting mdurl~=0.1 (from markdown-it-py>=2.2.0->rich>=13.9.4->fastmcp<3,>=2.0.0->mlflow>=3.0)\n  Downloading mdurl-0.1.2-py3-none-any.whl.metadata (1.6 kB)\nCollecting rfc3339-validator (from openapi-schema-validator<0.7.0,>=0.6.0->openapi-core>=0.19.5->fastmcp<3,>=2.0.0->mlflow>=3.0)\n  Downloading rfc3339_validator-0.1.4-py2.py3-none-any.whl.metadata (1.5 kB)\nCollecting lazy-object-proxy<2.0.0,>=1.7.1 (from openapi-spec-validator<0.8.0,>=0.7.1->openapi-core>=0.19.5->fastmcp<3,>=2.0.0->mlflow>=3.0)\n  Downloading lazy_object_proxy-1.12.0-cp312-cp312-manylinux2014_aarch64.manylinux_2_17_aarch64.manylinux_2_28_aarch64.whl.metadata (5.1 kB)\nCollecting docutils (from rich-rst<2.0.0,>=1.3.1->cyclopts>=3.0.0->fastmcp<3,>=2.0.0->mlflow>=3.0)\n  Downloading docutils-0.22.2-py3-none-any.whl.metadata (15 kB)\nRequirement already satisfied: pyasn1<0.5.0,>=0.4.6 in /databricks/python3/lib/python3.12/site-packages (from pyasn1-modules>=0.2.1->google-auth~=2.0->databricks-sdk<1,>=0.20.0->mlflow-skinny==3.4.0->mlflow>=3.0) (0.4.8)\nDownloading mlflow-3.4.0-py3-none-any.whl (26.7 MB)\n\u001B[?25l   \u001B[90m━━━━━━━━━━━━━━━━━━━━━━━━━━━━━━━━━━━━━━━━\u001B[0m \u001B[32m0.0/26.7 MB\u001B[0m \u001B[31m?\u001B[0m eta \u001B[36m-:--:--\u001B[0m\r\u001B[2K   \u001B[91m━━━━━━━━━━━━━━━━━━━━━━━━━━━━━━━━━━━━━━━\u001B[0m\u001B[91m╸\u001B[0m \u001B[32m26.5/26.7 MB\u001B[0m \u001B[31m141.1 MB/s\u001B[0m eta \u001B[36m0:00:01\u001B[0m\r\u001B[2K   \u001B[90m━━━━━━━━━━━━━━━━━━━━━━━━━━━━━━━━━━━━━━━━\u001B[0m \u001B[32m26.7/26.7 MB\u001B[0m \u001B[31m110.1 MB/s\u001B[0m eta \u001B[36m0:00:00\u001B[0m\n\u001B[?25hDownloading mlflow_skinny-3.4.0-py3-none-any.whl (2.2 MB)\n\u001B[?25l   \u001B[90m━━━━━━━━━━━━━━━━━━━━━━━━━━━━━━━━━━━━━━━━\u001B[0m \u001B[32m0.0/2.2 MB\u001B[0m \u001B[31m?\u001B[0m eta \u001B[36m-:--:--\u001B[0m\r\u001B[2K   \u001B[90m━━━━━━━━━━━━━━━━━━━━━━━━━━━━━━━━━━━━━━━━\u001B[0m \u001B[32m2.2/2.2 MB\u001B[0m \u001B[31m55.3 MB/s\u001B[0m eta \u001B[36m0:00:00\u001B[0m\n\u001B[?25hDownloading mlflow_tracing-3.4.0-py3-none-any.whl (1.2 MB)\n\u001B[?25l   \u001B[90m━━━━━━━━━━━━━━━━━━━━━━━━━━━━━━━━━━━━━━━━\u001B[0m \u001B[32m0.0/1.2 MB\u001B[0m \u001B[31m?\u001B[0m eta \u001B[36m-:--:--\u001B[0m\r\u001B[2K   \u001B[90m━━━━━━━━━━━━━━━━━━━━━━━━━━━━━━━━━━━━━━━━\u001B[0m \u001B[32m1.2/1.2 MB\u001B[0m \u001B[31m56.3 MB/s\u001B[0m eta \u001B[36m0:00:00\u001B[0m\n\u001B[?25hDownloading alembic-1.16.5-py3-none-any.whl (247 kB)\nDownloading cryptography-45.0.7-cp311-abi3-manylinux_2_34_aarch64.whl (4.2 MB)\n\u001B[?25l   \u001B[90m━━━━━━━━━━━━━━━━━━━━━━━━━━━━━━━━━━━━━━━━\u001B[0m \u001B[32m0.0/4.2 MB\u001B[0m \u001B[31m?\u001B[0m eta \u001B[36m-:--:--\u001B[0m\r\u001B[2K   \u001B[90m━━━━━━━━━━━━━━━━━━━━━━━━━━━━━━━━━━━━━━━━\u001B[0m \u001B[32m4.2/4.2 MB\u001B[0m \u001B[31m83.6 MB/s\u001B[0m eta \u001B[36m0:00:00\u001B[0m\n\u001B[?25hDownloading docker-7.1.0-py3-none-any.whl (147 kB)\nDownloading fastmcp-2.12.3-py3-none-any.whl (314 kB)\nDownloading flask-3.1.2-py3-none-any.whl (103 kB)\nDownloading graphene-3.4.3-py2.py3-none-any.whl (114 kB)\nDownloading gunicorn-23.0.0-py3-none-any.whl (85 kB)\nDownloading sqlalchemy-2.0.43-cp312-cp312-manylinux_2_17_aarch64.manylinux2014_aarch64.whl (3.3 MB)\n\u001B[?25l   \u001B[90m━━━━━━━━━━━━━━━━━━━━━━━━━━━━━━━━━━━━━━━━\u001B[0m \u001B[32m0.0/3.3 MB\u001B[0m \u001B[31m?\u001B[0m eta \u001B[36m-:--:--\u001B[0m\r\u001B[2K   \u001B[90m━━━━━━━━━━━━━━━━━━━━━━━━━━━━━━━━━━━━━━━━\u001B[0m \u001B[32m3.3/3.3 MB\u001B[0m \u001B[31m79.2 MB/s\u001B[0m eta \u001B[36m0:00:00\u001B[0m\n\u001B[?25hDownloading authlib-1.6.4-py2.py3-none-any.whl (243 kB)\nDownloading blinker-1.9.0-py3-none-any.whl (8.5 kB)\nDownloading cyclopts-3.24.0-py3-none-any.whl (86 kB)\nDownloading databricks_sdk-0.66.0-py3-none-any.whl (717 kB)\n\u001B[?25l   \u001B[90m━━━━━━━━━━━━━━━━━━━━━━━━━━━━━━━━━━━━━━━━\u001B[0m \u001B[32m0.0/717.5 kB\u001B[0m \u001B[31m?\u001B[0m eta \u001B[36m-:--:--\u001B[0m\r\u001B[2K   \u001B[90m━━━━━━━━━━━━━━━━━━━━━━━━━━━━━━━━━━━━━━━━\u001B[0m \u001B[32m717.5/717.5 kB\u001B[0m \u001B[31m34.6 MB/s\u001B[0m eta \u001B[36m0:00:00\u001B[0m\n\u001B[?25hDownloading exceptiongroup-1.3.0-py3-none-any.whl (16 kB)\nDownloading graphql_core-3.2.6-py3-none-any.whl (203 kB)\nDownloading graphql_relay-3.2.0-py3-none-any.whl (16 kB)\nDownloading greenlet-3.2.4-cp312-cp312-manylinux2014_aarch64.manylinux_2_17_aarch64.whl (640 kB)\n\u001B[?25l   \u001B[90m━━━━━━━━━━━━━━━━━━━━━━━━━━━━━━━━━━━━━━━━\u001B[0m \u001B[32m0.0/641.0 kB\u001B[0m \u001B[31m?\u001B[0m eta \u001B[36m-:--:--\u001B[0m\r\u001B[2K   \u001B[90m━━━━━━━━━━━━━━━━━━━━━━━━━━━━━━━━━━━━━━━━\u001B[0m \u001B[32m641.0/641.0 kB\u001B[0m \u001B[31m30.0 MB/s\u001B[0m eta \u001B[36m0:00:00\u001B[0m\n\u001B[?25hDownloading itsdangerous-2.2.0-py3-none-any.whl (16 kB)\nDownloading jinja2-3.1.6-py3-none-any.whl (134 kB)\nDownloading MarkupSafe-3.0.2-cp312-cp312-manylinux_2_17_aarch64.manylinux2014_aarch64.whl (24 kB)\nDownloading mcp-1.14.1-py3-none-any.whl (163 kB)\nDownloading openapi_core-0.19.5-py3-none-any.whl (106 kB)\nDownloading openapi_pydantic-0.5.1-py3-none-any.whl (96 kB)\nDownloading opentelemetry_proto-1.37.0-py3-none-any.whl (72 kB)\nDownloading pydantic-2.11.9-py3-none-any.whl (444 kB)\nDownloading pydantic_core-2.33.2-cp312-cp312-manylinux_2_17_aarch64.manylinux2014_aarch64.whl (1.9 MB)\n\u001B[?25l   \u001B[90m━━━━━━━━━━━━━━━━━━━━━━━━━━━━━━━━━━━━━━━━\u001B[0m \u001B[32m0.0/1.9 MB\u001B[0m \u001B[31m?\u001B[0m eta \u001B[36m-:--:--\u001B[0m\r\u001B[2K   \u001B[90m━━━━━━━━━━━━━━━━━━━━━━━━━━━━━━━━━━━━━━━━\u001B[0m \u001B[32m1.9/1.9 MB\u001B[0m \u001B[31m62.6 MB/s\u001B[0m eta \u001B[36m0:00:00\u001B[0m\n\u001B[?25hDownloading pyperclip-1.10.0-py3-none-any.whl (11 kB)\nDownloading python_dotenv-1.1.1-py3-none-any.whl (20 kB)\nDownloading rich-14.1.0-py3-none-any.whl (243 kB)\nDownloading typing_extensions-4.15.0-py3-none-any.whl (44 kB)\nDownloading werkzeug-3.1.1-py3-none-any.whl (224 kB)\nDownloading mako-1.3.10-py3-none-any.whl (78 kB)\nDownloading anyio-4.11.0-py3-none-any.whl (109 kB)\nDownloading attrs-25.3.0-py3-none-any.whl (63 kB)\nDownloading docstring_parser-0.17.0-py3-none-any.whl (36 kB)\nDownloading email_validator-2.3.0-py3-none-any.whl (35 kB)\nDownloading httpx_sse-0.4.1-py3-none-any.whl (8.1 kB)\nDownloading jsonschema-4.25.1-py3-none-any.whl (90 kB)\nDownloading jsonschema_path-0.3.4-py3-none-any.whl (14 kB)\nDownloading markdown_it_py-4.0.0-py3-none-any.whl (87 kB)\nDownloading openapi_schema_validator-0.6.3-py3-none-any.whl (8.8 kB)\nDownloading openapi_spec_validator-0.7.2-py3-none-any.whl (39 kB)\nDownloading pydantic_settings-2.10.1-py3-none-any.whl (45 kB)\nDownloading python_multipart-0.0.20-py3-none-any.whl (24 kB)\nDownloading rich_rst-1.3.1-py3-none-any.whl (11 kB)\nDownloading sse_starlette-3.0.2-py3-none-any.whl (11 kB)\nDownloading typing_inspection-0.4.1-py3-none-any.whl (14 kB)\nDownloading more_itertools-10.8.0-py3-none-any.whl (69 kB)\nDownloading parse-1.20.2-py2.py3-none-any.whl (20 kB)\nDownloading dnspython-2.8.0-py3-none-any.whl (331 kB)\nDownloading jsonschema_specifications-2025.9.1-py3-none-any.whl (18 kB)\nDownloading lazy_object_proxy-1.12.0-cp312-cp312-manylinux2014_aarch64.manylinux_2_17_aarch64.manylinux_2_28_aarch64.whl (71 kB)\nDownloading mdurl-0.1.2-py3-none-any.whl (10.0 kB)\nDownloading pathable-0.4.4-py3-none-any.whl (9.6 kB)\nDownloading referencing-0.36.2-py3-none-any.whl (26 kB)\nDownloading rpds_py-0.27.1-cp312-cp312-manylinux_2_17_aarch64.manylinux2014_aarch64.whl (385 kB)\nDownloading docutils-0.22.2-py3-none-any.whl (632 kB)\n\u001B[?25l   \u001B[90m━━━━━━━━━━━━━━━━━━━━━━━━━━━━━━━━━━━━━━━━\u001B[0m \u001B[32m0.0/632.7 kB\u001B[0m \u001B[31m?\u001B[0m eta \u001B[36m-:--:--\u001B[0m\r\u001B[2K   \u001B[90m━━━━━━━━━━━━━━━━━━━━━━━━━━━━━━━━━━━━━━━━\u001B[0m \u001B[32m632.7/632.7 kB\u001B[0m \u001B[31m29.1 MB/s\u001B[0m eta \u001B[36m0:00:00\u001B[0m\n\u001B[?25hDownloading rfc3339_validator-0.1.4-py2.py3-none-any.whl (3.5 kB)\nInstalling collected packages: pyperclip, parse, typing-extensions, rpds-py, rfc3339-validator, python-multipart, python-dotenv, pathable, opentelemetry-proto, more-itertools, mdurl, markupsafe, lazy-object-proxy, itsdangerous, httpx-sse, gunicorn, greenlet, graphql-core, docutils, docstring-parser, dnspython, blinker, attrs, werkzeug, typing-inspection, sqlalchemy, referencing, pydantic-core, markdown-it-py, Mako, jinja2, graphql-relay, exceptiongroup, email-validator, docker, cryptography, anyio, sse-starlette, rich, pydantic, jsonschema-specifications, jsonschema-path, graphene, Flask, databricks-sdk, authlib, alembic, rich-rst, pydantic-settings, openapi-pydantic, jsonschema, openapi-schema-validator, mlflow-tracing, mlflow-skinny, mcp, cyclopts, openapi-spec-validator, openapi-core, fastmcp, mlflow\n  Attempting uninstall: typing-extensions\n    Found existing installation: typing_extensions 4.11.0\n    Not uninstalling typing-extensions at /databricks/python3/lib/python3.12/site-packages, outside environment /local_disk0/.ephemeral_nfs/envs/pythonEnv-95b31a76-ab3a-4378-a703-6d4bb58d9e9a\n    Can't uninstall 'typing_extensions'. No files were found to uninstall.\n  Attempting uninstall: blinker\n    Found existing installation: blinker 1.7.0\n    Not uninstalling blinker at /usr/lib/python3/dist-packages, outside environment /local_disk0/.ephemeral_nfs/envs/pythonEnv-95b31a76-ab3a-4378-a703-6d4bb58d9e9a\n    Can't uninstall 'blinker'. No files were found to uninstall.\n  Attempting uninstall: pydantic-core\n    Found existing installation: pydantic_core 2.20.1\n    Not uninstalling pydantic-core at /databricks/python3/lib/python3.12/site-packages, outside environment /local_disk0/.ephemeral_nfs/envs/pythonEnv-95b31a76-ab3a-4378-a703-6d4bb58d9e9a\n    Can't uninstall 'pydantic_core'. No files were found to uninstall.\n  Attempting uninstall: cryptography\n    Found existing installation: cryptography 42.0.5\n    Not uninstalling cryptography at /databricks/python3/lib/python3.12/site-packages, outside environment /local_disk0/.ephemeral_nfs/envs/pythonEnv-95b31a76-ab3a-4378-a703-6d4bb58d9e9a\n    Can't uninstall 'cryptography'. No files were found to uninstall.\n  Attempting uninstall: anyio\n    Found existing installation: anyio 4.2.0\n    Not uninstalling anyio at /databricks/python3/lib/python3.12/site-packages, outside environment /local_disk0/.ephemeral_nfs/envs/pythonEnv-95b31a76-ab3a-4378-a703-6d4bb58d9e9a\n    Can't uninstall 'anyio'. No files were found to uninstall.\n  Attempting uninstall: pydantic\n    Found existing installation: pydantic 2.8.2\n    Not uninstalling pydantic at /databricks/python3/lib/python3.12/site-packages, outside environment /local_disk0/.ephemeral_nfs/envs/pythonEnv-95b31a76-ab3a-4378-a703-6d4bb58d9e9a\n    Can't uninstall 'pydantic'. No files were found to uninstall.\n  Attempting uninstall: databricks-sdk\n    Found existing installation: databricks-sdk 0.19.1\n    Uninstalling databricks-sdk-0.19.1:\n      Successfully uninstalled databricks-sdk-0.19.1\n  Attempting uninstall: mlflow-skinny\n    Found existing installation: mlflow-skinny 2.21.3\n    Not uninstalling mlflow-skinny at /databricks/python3/lib/python3.12/site-packages, outside environment /local_disk0/.ephemeral_nfs/envs/pythonEnv-95b31a76-ab3a-4378-a703-6d4bb58d9e9a\n    Can't uninstall 'mlflow-skinny'. No files were found to uninstall.\n\u001B[31mERROR: pip's dependency resolver does not currently take into account all the packages that are installed. This behaviour is the source of the following dependency conflicts.\ndatabricks-genai-inference 0.2.3 requires databricks-sdk==0.19.1, but you have databricks-sdk 0.66.0 which is incompatible.\u001B[0m\u001B[31m\n\u001B[0mSuccessfully installed Flask-3.1.2 Mako-1.3.10 alembic-1.16.5 anyio-4.11.0 attrs-25.3.0 authlib-1.6.4 blinker-1.9.0 cryptography-45.0.7 cyclopts-3.24.0 databricks-sdk-0.66.0 dnspython-2.8.0 docker-7.1.0 docstring-parser-0.17.0 docutils-0.22.2 email-validator-2.3.0 exceptiongroup-1.3.0 fastmcp-2.12.3 graphene-3.4.3 graphql-core-3.2.6 graphql-relay-3.2.0 greenlet-3.2.4 gunicorn-23.0.0 httpx-sse-0.4.1 itsdangerous-2.2.0 jinja2-3.1.6 jsonschema-4.25.1 jsonschema-path-0.3.4 jsonschema-specifications-2025.9.1 lazy-object-proxy-1.12.0 markdown-it-py-4.0.0 markupsafe-3.0.2 mcp-1.14.1 mdurl-0.1.2 mlflow-3.4.0 mlflow-skinny-3.4.0 mlflow-tracing-3.4.0 more-itertools-10.8.0 openapi-core-0.19.5 openapi-pydantic-0.5.1 openapi-schema-validator-0.6.3 openapi-spec-validator-0.7.2 opentelemetry-proto-1.37.0 parse-1.20.2 pathable-0.4.4 pydantic-2.11.9 pydantic-core-2.33.2 pydantic-settings-2.10.1 pyperclip-1.10.0 python-dotenv-1.1.1 python-multipart-0.0.20 referencing-0.36.2 rfc3339-validator-0.1.4 rich-14.1.0 rich-rst-1.3.1 rpds-py-0.27.1 sqlalchemy-2.0.43 sse-starlette-3.0.2 typing-extensions-4.15.0 typing-inspection-0.4.1 werkzeug-3.1.1\n\u001B[43mNote: you may need to restart the kernel using %restart_python or dbutils.library.restartPython() to use updated packages.\u001B[0m\n"
     ]
    }
   ],
   "source": [
    "%pip install mlflow>=3.0 --upgrade\n",
    "dbutils.library.restartPython()"
   ]
  },
  {
   "cell_type": "code",
   "execution_count": 0,
   "metadata": {
    "application/vnd.databricks.v1+cell": {
     "cellMetadata": {
      "byteLimit": 2048000,
      "rowLimit": 10000
     },
     "inputWidgets": {},
     "nuid": "0c6f971c-a537-4121-bb65-894c7e85f141",
     "showTitle": false,
     "tableResultSettingsMap": {},
     "title": ""
    }
   },
   "outputs": [],
   "source": [
    "dbutils.library.restartPython()"
   ]
  },
  {
   "cell_type": "code",
   "execution_count": 0,
   "metadata": {
    "application/vnd.databricks.v1+cell": {
     "cellMetadata": {},
     "inputWidgets": {},
     "nuid": "baa9dbfd-4aea-45c6-b634-264a33649035",
     "showTitle": false,
     "tableResultSettingsMap": {},
     "title": ""
    }
   },
   "outputs": [],
   "source": []
  }
 ],
 "metadata": {
  "application/vnd.databricks.v1+notebook": {
   "computePreferences": {
    "hardware": {
     "accelerator": null,
     "gpuPoolId": null,
     "memory": null
    }
   },
   "dashboards": [],
   "environmentMetadata": {
    "base_environment": "",
    "environment_version": "3"
   },
   "inputWidgetPreferences": null,
   "language": "python",
   "notebookMetadata": {
    "pythonIndentUnit": 4
   },
   "notebookName": "PromptEngineeringPrac",
   "widgets": {}
  },
  "language_info": {
   "name": "python"
  }
 },
 "nbformat": 4,
 "nbformat_minor": 0
}
